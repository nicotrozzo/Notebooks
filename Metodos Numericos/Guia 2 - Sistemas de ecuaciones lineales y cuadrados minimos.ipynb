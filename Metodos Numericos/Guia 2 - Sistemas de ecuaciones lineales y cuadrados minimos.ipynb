{
 "cells": [
  {
   "cell_type": "markdown",
   "metadata": {},
   "source": [
    "# ¿Cómo se usan las distintas descomposiciones vistas en clase?\n",
    "\n",
    "La idea de este notebook es mostrar para qué se usan las distintas descomposiciones, y como se implementa facilmente en Python usando Numpy. Ademas, se muestran ejemplos de implementacion de eliminacion gaussiana y descomposicion LU pero no es lo central. \\\n",
    "Primero se utiliza eliminación gaussiana y descomposición LU para resolver un sistema de ecuaciones lineales y después se ven las distintas estrategias que se pueden seguir para realizar un ajuste mediante cuadrados mínimos.\n",
    "_______________"
   ]
  },
  {
   "cell_type": "markdown",
   "metadata": {},
   "source": [
    "## 1era parte: Resolución de un sistema de ecuaciones lineales con diversos métodos\n",
    "\n",
    "### Guia 2: Ejercicio 2\n",
    "\\begin{align}\n",
    "    5x_1 + 2x_2 - 1x_3 &= 4 \\\\\n",
    "    1x_1 - 5x_2 - 2x_3 &= 4 \\\\\n",
    "    1x_1 - 1x_2 + 3x_3 &= 4\n",
    "\\end{align}\n",
    "Solución: \n",
    "\\begin{align}\n",
    "    x_1 &= \\frac{124}{99} \\\\\n",
    "    x_2 &= \\frac{-80}{99} \\\\\n",
    "    x_3 &= \\frac{64}{99}\n",
    "\\end{align}\n",
    "________________"
   ]
  },
  {
   "cell_type": "code",
   "execution_count": 1,
   "metadata": {},
   "outputs": [
    {
     "name": "stdout",
     "output_type": "stream",
     "text": [
      "[ 1.2525252  -0.8080808   0.64646465]\n"
     ]
    }
   ],
   "source": [
    "\"\"\" Definicion del problema y solucion directa usando linalg.solve \"\"\"\n",
    "\n",
    "import numpy as np\n",
    "from copy import copy\n",
    "\n",
    "A = np.asarray([[5.0, 2.0, -1.0], [1.0, -5.0, -2.0], [1.0, -1.0, 3.0]], dtype=np.float32)\n",
    "b = np.asarray([4, 4, 4], dtype=np.float32)\n",
    "\n",
    "# Solucion sin hacer nada\n",
    "solution = np.linalg.solve(A, b)\n",
    "print(solution)"
   ]
  },
  {
   "cell_type": "code",
   "execution_count": 2,
   "metadata": {},
   "outputs": [
    {
     "name": "stdout",
     "output_type": "stream",
     "text": [
      "Inicio:\n",
      "[[ 5.  2. -1.]\n",
      " [ 1. -5. -2.]\n",
      " [ 1. -1.  3.]]\n",
      "Paso 1:\n",
      "[[ 5.   2.  -1. ]\n",
      " [ 0.  -5.4 -1.8]\n",
      " [ 0.  -1.4  3.2]]\n",
      "Paso 2:\n",
      "[[ 5.         2.        -1.       ]\n",
      " [ 0.        -5.4       -1.8      ]\n",
      " [ 0.         0.         3.6666667]]\n",
      "Paso 3:\n",
      "[[ 5.         2.        -1.       ]\n",
      " [ 0.        -5.4       -1.8      ]\n",
      " [ 0.         0.         3.6666667]]\n",
      "Solucion mediante eliminacion gaussiana: [ 1.2525252  -0.8080808   0.64646465]\n"
     ]
    }
   ],
   "source": [
    "\"\"\" Eliminación Gaussiana \"\"\"\n",
    "\n",
    "def gaussian_elimination(A, b):\n",
    "    U = copy(A)\n",
    "    newb = copy(b)\n",
    "    \n",
    "    print(f'Inicio:\\n{U}')  # comentar si no se quiere ver cada paso de la eliminacion \n",
    "    # k: numero de paso de la eliminacion\n",
    "    for k in range(len(U)):    \n",
    "        # j: fila que se esta eliminando\n",
    "        for j in range(k+1, len(U)):\n",
    "            m = U[j][k]/U[k][k]\n",
    "            U[j] = U[j] - m*U[k]\n",
    "            newb[j] = newb[j] - m*newb[k]\n",
    "        print(f'Paso {k + 1}:\\n{U}') # comentar si no se quiere ver cada paso de la eliminacion \n",
    "    return (U, newb)\n",
    "\n",
    "U_gaussian, b_gaussian = gaussian_elimination(A, b)\n",
    "x_gaussian = np.linalg.solve(U_gaussian, b_gaussian)\n",
    "print(f'Solucion mediante eliminacion gaussiana: {x_gaussian}')"
   ]
  },
  {
   "cell_type": "markdown",
   "metadata": {},
   "source": [
    "____________\n",
    "Para resolver un sistema utilizando descomposición LU notar que:\n",
    "\\begin{align}\n",
    "    A \\vec{x} &= \\vec{b} \\\\\n",
    "    L U \\vec{x} &= \\vec{b}\n",
    "\\end{align}\n",
    "Entonces debemos resolver:\n",
    "\\begin{align}\n",
    "    L \\vec{y} &= \\vec{b} \\\\\n",
    "    U \\vec{x} &= \\vec{y}\n",
    "\\end{align}"
   ]
  },
  {
   "cell_type": "code",
   "execution_count": 3,
   "metadata": {},
   "outputs": [
    {
     "name": "stdout",
     "output_type": "stream",
     "text": [
      "Inicio:\n",
      "L:\n",
      "[[1. 0. 0.]\n",
      " [0. 1. 0.]\n",
      " [0. 0. 1.]]\n",
      "U:\n",
      "[[ 5.  2. -1.]\n",
      " [ 1. -5. -2.]\n",
      " [ 1. -1.  3.]]\n",
      "Paso 1:\n",
      "L:\n",
      "[[1.  0.  0. ]\n",
      " [0.2 1.  0. ]\n",
      " [0.2 0.  1. ]]\n",
      "U:\n",
      "[[ 5.   2.  -1. ]\n",
      " [ 0.  -5.4 -1.8]\n",
      " [ 0.  -1.4  3.2]]\n",
      "Paso 2:\n",
      "L:\n",
      "[[1.         0.         0.        ]\n",
      " [0.2        1.         0.        ]\n",
      " [0.2        0.25925925 1.        ]]\n",
      "U:\n",
      "[[ 5.         2.        -1.       ]\n",
      " [ 0.        -5.4       -1.8      ]\n",
      " [ 0.         0.         3.6666667]]\n",
      "Paso 3:\n",
      "L:\n",
      "[[1.         0.         0.        ]\n",
      " [0.2        1.         0.        ]\n",
      " [0.2        0.25925925 1.        ]]\n",
      "U:\n",
      "[[ 5.         2.        -1.       ]\n",
      " [ 0.        -5.4       -1.8      ]\n",
      " [ 0.         0.         3.6666667]]\n",
      "Solucion mediante descomposicion LU: [ 1.25252524 -0.80808078  0.64646463]\n"
     ]
    }
   ],
   "source": [
    "\"\"\" Descomposicion LU \"\"\"\n",
    "\n",
    "import scipy.linalg\n",
    "\n",
    "# Codigo de ejemplo de como se descompone LU si se quiere ver el paso a paso\n",
    "# Recomiendo usar version de Python porque esta tiene bastante error numerico\n",
    "def lu_decomposition(A):\n",
    "    \"\"\"(I | A) -> (L | A)\"\"\"\n",
    "    U = copy(A)\n",
    "    L = np.eye(len(A))\n",
    "    print(f'Inicio:\\nL:\\n{L}\\nU:\\n{U}')  # comentar si no se quiere ver cada paso de la descomposicion \n",
    "    # k: numero de paso de la descomposicion\n",
    "    for k in range(len(U)):    \n",
    "        # j: fila que se esta eliminando\n",
    "        for j in range(k+1, len(U)):\n",
    "            m = U[j][k]/U[k][k]\n",
    "            U[j] = U[j] - m*U[k]\n",
    "            L[j][k] = m\n",
    "        print(f'Paso {k + 1}:\\nL:\\n{L}\\nU:\\n{U}') # comentar si no se quiere ver cada paso de la descomposicion \n",
    "    return (L, U)\n",
    "\n",
    "L, U = lu_decomposition(A)\n",
    "# print(L @ U)\n",
    "#p, L, U = scipy.linalg.lu(A)\n",
    "y = np.linalg.solve(L, b)\n",
    "x_lu = np.linalg.solve(U, y)\n",
    "print(f'Solucion mediante descomposicion LU: {x_lu}')"
   ]
  },
  {
   "cell_type": "markdown",
   "metadata": {},
   "source": [
    "______________________\n",
    "\n",
    "## 2da parte: Cuadrados mínimos con diversos métodos\n",
    "\n",
    "\n",
    "### Guia 2: Ejercicio 9\n",
    "Ajustar el siguiente conjunto de puntos:\n",
    "\n",
    "| x |   y  |\n",
    "|:-:|:----:|\n",
    "| 1 |  3.1 |\n",
    "| 2 |  8.8 |\n",
    "| 3 | 20.2 |\n",
    "\n",
    "A la siguiente ecuación: $y = ax^2 + b$\n",
    "\n",
    "Planteo del problema de cuadrados mínimos: \\\n",
    "\\begin{equation}\n",
    "A = \\begin{pmatrix}\n",
    " 1&1 \\\\ \n",
    " 4&1 \\\\ \n",
    " 9&1 \n",
    "\\end{pmatrix}\n",
    "\\,\\,\\,\\,\\,\\,\\,\n",
    "b = \\begin{pmatrix}\n",
    " 3.1 \\\\ \n",
    " 8.8 \\\\ \n",
    " 20.2 \n",
    "\\end{pmatrix} \n",
    "\\,\\,\\,\\,\\,\\,\\,\n",
    "x = \\begin{pmatrix}\n",
    " a \\\\ \n",
    " b  \n",
    "\\end{pmatrix}\n",
    "\\end{equation}\n",
    "Buscamos minimizar el valor de $\\left \\| A \\vec{x} - \\vec{b} \\right \\|^2_2$, para lo cual utilizamos las siguientes estrategias:\n",
    "1. Resolver el sistema de ecuaciones normales: $ A^TA \\vec{x} = A^T\\vec{b}$\n",
    "2. Descomposición QR\n",
    "3. Descomposicion en valores singulares\n",
    "___________________________"
   ]
  },
  {
   "cell_type": "code",
   "execution_count": 4,
   "metadata": {},
   "outputs": [
    {
     "name": "stdout",
     "output_type": "stream",
     "text": [
      "Solución: a = 2.1520409243447443 b = 0.6571426391601561\n"
     ]
    },
    {
     "data": {
      "image/png": "[encoded data removed]",
      "text/plain": [
       "<Figure size 432x288 with 1 Axes>"
      ]
     },
     "metadata": {
      "needs_background": "light"
     },
     "output_type": "display_data"
    }
   ],
   "source": [
    "import matplotlib.pyplot as plt\n",
    "\n",
    "\"\"\" Planteo del problema de cuadrados mínimos \"\"\"\n",
    "\n",
    "# Parto de los datos de la tabla\n",
    "data_x = np.asarray([1, 2, 3], dtype=np.float32)\n",
    "data_y = [3.1, 8.8, 20.2]\n",
    "\n",
    "# Creo la traspuesta de A a partir de los datos\n",
    "atransp = [data_x**2, np.full(len(data_x),1)]\n",
    "\n",
    "A = np.transpose(atransp)\n",
    "b = np.asarray(data_y, dtype=np.float32)\n",
    "\n",
    "\"\"\" Solución by Python \"\"\"\n",
    "\n",
    "a_sol, b_sol = np.linalg.lstsq(A, b, rcond=None)[0]\n",
    "print(f'Solución: a = {a_sol} b = {b_sol}')\n",
    "\n",
    "time = np.linspace(data_x[0], data_x[-1], 1000)\n",
    "adjust = [a_sol*t**2 + b_sol for t in time]\n",
    "plt.figure()\n",
    "plt.plot(time, adjust, label='Recta ajustada', color='b')\n",
    "plt.scatter(data_x, data_y, marker='o', color='r', label='Datos originales')\n",
    "plt.title(f'Ajuste por cuadrados minimos a y={a_sol:.2f}x**2 + {b_sol:.2f}')\n",
    "plt.legend()\n",
    "plt.show()"
   ]
  },
  {
   "cell_type": "markdown",
   "metadata": {},
   "source": [
    "________________\n",
    "\n",
    "### 1. Resolución por ecuaciones normales\n",
    "\n",
    "El sistema de ecuaciones normales surge de igualar a 0 el gradiente de $f(\\vec{x}) = \\left \\| A \\vec{x} - \\vec{b} \\right \\|^2_2$. \\\n",
    "Se debe resolver el sistema de ecuaciones lineales:  $ A^TA \\vec{x} = A^T\\vec{b}$. \\\n",
    "Para resolverlo se puede utilizar cualquiera de los métodos estudiados, sin embargo los más convenientes son Cholesky y eliminación gaussiana. Notar que la matriz $A^TA$ es simétrica por lo que se puede usar la descomposición Cholesky. Dado que se puede usar Cholesky, no se suele utilizar la descomposición LU que es más lenta y realiza la misma tarea que Cholesky, convertir el sistema en dos sistemas triangulares. \\\n",
    "Para resolver un sistema lineal usando Cholesky, se procede de manera similar a la resolución vista para la descomposición LU:\n",
    "\\begin{align}\n",
    "    A^TA \\vec{x} &= A^T\\vec{b} \\\\\n",
    "    G G^T \\vec{x} &= A^T\\vec{b}\n",
    "\\end{align}\n",
    "Debemos resolver:\n",
    "\\begin{align}\n",
    "    G \\vec{y} &= A^T\\vec{b} \\\\\n",
    "    G^T \\vec{x} &= \\vec{y}\n",
    "\\end{align}\n",
    "\n",
    "Para este ejemplo se resuelve utilizando la descomposición Cholesky provista por Numpy."
   ]
  },
  {
   "cell_type": "code",
   "execution_count": 5,
   "metadata": {},
   "outputs": [
    {
     "name": "stdout",
     "output_type": "stream",
     "text": [
      "Solucion resolviendo las ecuaciones normales con Cholesky: [2.15204092 0.65714264]\n"
     ]
    }
   ],
   "source": [
    "G = np.linalg.cholesky(A.T @ A)\n",
    "y = np.linalg.solve(G, A.T @ b)\n",
    "x_cholesky = np.linalg.solve(G.T, y)\n",
    "\n",
    "print(f'Solucion resolviendo las ecuaciones normales con Cholesky: {x_cholesky}')"
   ]
  },
  {
   "cell_type": "markdown",
   "metadata": {},
   "source": [
    "______________\n",
    "\n",
    "### 2. Resolución por descomposicion QR\n",
    "Se debe resolver: \n",
    "\\begin{equation}\n",
    "    R_1 \\vec{x} = Q_1^T \\vec{b}\n",
    "\\end{equation}\n",
    "Se utiliza la descomposición QR de Numpy."
   ]
  },
  {
   "cell_type": "code",
   "execution_count": 6,
   "metadata": {},
   "outputs": [
    {
     "name": "stdout",
     "output_type": "stream",
     "text": [
      "Solucion utilizando descomposicion QR: [2.15204092 0.65714264]\n"
     ]
    }
   ],
   "source": [
    "Q, R = np.linalg.qr(A, mode='reduced')\n",
    "x_qr = np.linalg.solve(R, Q.T @ b)\n",
    "\n",
    "print(f'Solucion utilizando descomposicion QR: {x_qr}')"
   ]
  },
  {
   "cell_type": "markdown",
   "metadata": {},
   "source": [
    "______________\n",
    "\n",
    "### 3.1. Resolución por DSV\n",
    "La solución se obtiene mediante: \n",
    "\\begin{equation}\n",
    "    \\vec{x} = \\sum_{i = 1}^{r} \\frac{\\vec{u_i}^T \\cdot \\vec{b}}{\\sigma_i} \\vec{v_i}\n",
    "\\end{equation}\n",
    "Se utiliza la DSV de Numpy."
   ]
  },
  {
   "cell_type": "code",
   "execution_count": 7,
   "metadata": {},
   "outputs": [
    {
     "name": "stdout",
     "output_type": "stream",
     "text": [
      "Solucion utilizando DSV: [2.15204092 0.65714264]\n"
     ]
    }
   ],
   "source": [
    "U, s, Vt = np.linalg.svd(A, full_matrices=True)\n",
    "\n",
    "x_dsv = np.zeros(len(s))\n",
    "for k in range(len(s)):\n",
    "    x_dsv += np.dot(U.T[k],b)/s[k] * Vt[k] \n",
    "print(f'Solucion utilizando DSV: {x_dsv}')"
   ]
  },
  {
   "cell_type": "markdown",
   "metadata": {},
   "source": [
    "______________\n",
    "\n",
    "### 3.2. Resolución alternativa por DSV\n",
    "\n",
    "Se puede obtener una expresión mas compacta si se utiliza la matriz pseudo-inversa:\n",
    "\n",
    "\\begin{align}\n",
    "    \\Sigma^\\dagger &= diag(1/\\sigma_1, ..., 1/\\sigma_r, 0, ..., 0) \\\\\n",
    "    A^\\dagger &= V \\cdot \\Sigma^\\dagger \\cdot U^T\n",
    "\\end{align}\n",
    "\n",
    "La solución se obtiene mediante: \n",
    "\\begin{equation}\n",
    "    \\vec{x} = A^\\dagger \\vec{b}\n",
    "\\end{equation}"
   ]
  },
  {
   "cell_type": "code",
   "execution_count": 8,
   "metadata": {},
   "outputs": [
    {
     "name": "stdout",
     "output_type": "stream",
     "text": [
      "Solucion con pseudo inversa: [2.15204092 0.65714264]\n"
     ]
    }
   ],
   "source": [
    "sigma_dagger = np.zeros(A.T.shape)\n",
    "np.fill_diagonal(sigma_dagger, 1/s)\n",
    "\n",
    "A_dagger = Vt.T @ sigma_dagger @ U.T\n",
    "x_pinv = A_dagger @ b\n",
    "\n",
    "print(f'Solucion con pseudo inversa: {x_pinv}')"
   ]
  }
 ],
 "metadata": {
  "kernelspec": {
   "display_name": "Python 3",
   "language": "python",
   "name": "python3"
  },
  "language_info": {
   "codemirror_mode": {
    "name": "ipython",
    "version": 3
   },
   "file_extension": ".py",
   "mimetype": "text/x-python",
   "name": "python",
   "nbconvert_exporter": "python",
   "pygments_lexer": "ipython3",
   "version": "3.7.6"
  }
 },
 "nbformat": 4,
 "nbformat_minor": 4
}
