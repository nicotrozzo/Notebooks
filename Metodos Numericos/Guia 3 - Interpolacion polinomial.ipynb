{
 "cells": [
  {
   "cell_type": "code",
   "execution_count": 1,
   "metadata": {},
   "outputs": [],
   "source": [
    "import numpy as np\n",
    "import numpy.polynomial.polynomial as poly\n",
    "\n",
    "\"\"\"\n",
    "    lagrange_interpolation: \n",
    "     Encuentra el polinomio interpolador de 'f' en [a, b] usando polinomios de lagrange de orden n\n",
    "     @param cheby: True si se usan nodos de chebyshev, de lo contrario equiespaciados\n",
    "     @return (polinomio, (nodos_x, f(nodos_x)))\n",
    "         Los coeficientes del polinomio son: [an,..., a1, a0] que el orden en que np.polyval() recibe los coeficientes \n",
    "\"\"\"\n",
    "def lagrange_interpolation(a, b, n, f, cheby):\n",
    "    if cheby:\n",
    "        zj = [np.cos((2*j+1)/(2*(n+1))*np.pi) for j in range(n+1)]\n",
    "        x_nodes = [(b+a)/2 + (b-a)/2*z for z in zj] \n",
    "    else:\n",
    "        x_nodes = np.linspace(a, b, n + 1)\n",
    "    y_nodes = [f(x) for x in x_nodes]\n",
    "    # hay n+1 polinomios con n+1 coeficientes\n",
    "    lag_pols = np.zeros((n + 1, n + 1)) \n",
    "    for k in range(len(x_nodes)):\n",
    "        # Formamos el polinomio de lagrange k a partir de sus raices\n",
    "        lag_roots = np.delete(x_nodes, k)\n",
    "        lag_pols[k] = np.flip(poly.polyfromroots(lag_roots)) / np.prod(x_nodes[k] - lag_roots) * y_nodes[k]\n",
    "        print(lag_pols[k])  # comentar si no se quieren ver los polinomios de Lagrange\n",
    "    interp_poly = np.sum(lag_pols, axis=0)\n",
    "    \n",
    "    return (interp_poly, (x_nodes, y_nodes))"
   ]
  },
  {
   "cell_type": "code",
   "execution_count": 6,
   "metadata": {},
   "outputs": [
    {
     "name": "stdout",
     "output_type": "stream",
     "text": [
      "[  3.83172671 -10.92226399   7.37929893]\n",
      "[ -6.85714286  24.         -18.10714286]\n",
      "[  3.45821411 -14.34992536  14.52158865]\n",
      "[ 0.43279797 -1.27218935  3.79374472]\n"
     ]
    },
    {
     "data": {
      "image/png": "[encoded data removed]",
      "text/plain": [
       "<Figure size 432x288 with 1 Axes>"
      ]
     },
     "metadata": {
      "needs_background": "light"
     },
     "output_type": "display_data"
    }
   ],
   "source": [
    "# Ejercicio 2: Interpolacion con nodos de chebyshev\n",
    "# f(x) = x + 2/x\n",
    "import matplotlib.pyplot as plt\n",
    "\n",
    "n = 2\n",
    "a = 1\n",
    "b = 2.5\n",
    "pol, nodes = lagrange_interpolation(a, b, n, \n",
    "                             lambda x: x + 2/x, True)\n",
    "\n",
    "print(pol)\n",
    "\n",
    "time = np.linspace(a, b, 1000)\n",
    "plt.figure()\n",
    "plt.plot(time, np.polyval(pol, time), label='Polinomio interpolador', color='b')\n",
    "plt.scatter(nodes[0], nodes[1], marker='o', color='r')\n",
    "plt.title(f'Interpolacion de f(x) = x + 2/x')\n",
    "plt.legend()\n",
    "plt.show()"
   ]
  }
 ],
 "metadata": {
  "kernelspec": {
   "display_name": "Python 3",
   "language": "python",
   "name": "python3"
  },
  "language_info": {
   "codemirror_mode": {
    "name": "ipython",
    "version": 3
   },
   "file_extension": ".py",
   "mimetype": "text/x-python",
   "name": "python",
   "nbconvert_exporter": "python",
   "pygments_lexer": "ipython3",
   "version": "3.7.6"
  }
 },
 "nbformat": 4,
 "nbformat_minor": 4
}
