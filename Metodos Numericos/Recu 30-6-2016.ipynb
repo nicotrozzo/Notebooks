{
 "cells": [
  {
   "cell_type": "code",
   "execution_count": 12,
   "metadata": {},
   "outputs": [
    {
     "name": "stdout",
     "output_type": "stream",
     "text": [
      "Solucion utilizando descomposicion QR: [11.  1.]\n"
     ]
    },
    {
     "data": {
      "image/png": "[encoded data removed]",
      "text/plain": [
       "<Figure size 432x288 with 1 Axes>"
      ]
     },
     "metadata": {
      "needs_background": "light"
     },
     "output_type": "display_data"
    }
   ],
   "source": [
    "import numpy as np\n",
    "import matplotlib.pyplot as plt\n",
    "# Ejercicio 1: Cuadrados minimos con QR\n",
    "\n",
    "data_x = [1, 10, 100]\n",
    "data_y = [1, 12, 23]\n",
    "\n",
    "A = [ [0, 1], [1, 1], [2, 1]]\n",
    "b = [ 1, 12, 23 ]\n",
    "\n",
    "Q, R = np.linalg.qr(A, mode='reduced')\n",
    "x_qr = np.linalg.solve(R, Q.T @ b)\n",
    "\n",
    "print(f'Solucion utilizando descomposicion QR: {x_qr}')\n",
    "\n",
    "time = np.linspace(1, 100, 10000)\n",
    "adjust = [x_qr[0]*np.log10(t) + x_qr[1] for t in time]\n",
    "plt.figure()\n",
    "plt.plot(time, adjust, label='Recta ajustada', color='b')\n",
    "plt.scatter(data_x, data_y, marker='o', color='r', label='Datos originales')\n",
    "plt.title(f'Ajuste por cuadrados minimos a y={x_qr[0]:.0f}log10(x) + {x_qr[1]:.0f}')\n",
    "plt.legend()\n",
    "plt.show()"
   ]
  },
  {
   "cell_type": "code",
   "execution_count": 87,
   "metadata": {},
   "outputs": [
    {
     "name": "stdout",
     "output_type": "stream",
     "text": [
      "[ 0. -0.  0.]\n",
      "[-7.96662342  7.96662342 -0.        ]\n",
      "[ 0.91278505 -0.45639253  0.        ]\n",
      "[-7.05383837  7.5102309   0.        ]\n"
     ]
    },
    {
     "data": {
      "image/png": "[encoded data removed]",
      "text/plain": [
       "<Figure size 432x288 with 1 Axes>"
      ]
     },
     "metadata": {
      "needs_background": "light"
     },
     "output_type": "display_data"
    }
   ],
   "source": [
    "# Ejercicio 2: Interpolacion polinomial\n",
    "# f(x) = 1 - cos(2pisin(x))\n",
    "import numpy.polynomial.polynomial as poly\n",
    "\n",
    "\"\"\"\n",
    "    lagrange_interpolation: \n",
    "     Encuentra el polinomio interpolador de 'f' en [a, b] usando polinomios de lagrange de orden n\n",
    "     Si 'cheby' es True se usan nodos de chebyshev, de lo contrario equiespaciados\n",
    "     Devuelve [an,..., a1, a0] que es como np.polyval() recibe los coeficientes\n",
    "\"\"\"\n",
    "def lagrange_interpolation(a, b, n, f, cheby):\n",
    "    if cheby:\n",
    "        zj = [np.cos((2*j+1)/(2*(n+1))*np.pi) for j in range(n+1)]\n",
    "        x_nodes = [(b+a)/2 + (b-a)/2*z for z in zj] \n",
    "    else:\n",
    "        x_nodes = np.linspace(a, b, n + 1)\n",
    "    y_nodes = [f(x) for x in x_nodes]\n",
    "    # hay n+1 polinomios con n+1 coeficientes\n",
    "    lag_pols = np.zeros((n + 1, n + 1)) \n",
    "    for k in range(len(x_nodes)):\n",
    "        # Formamos el polinomio de lagrange k a partir de sus raices\n",
    "        lag_roots = np.delete(x_nodes, k)\n",
    "        lag_pols[k] = np.flip(poly.polyfromroots(lag_roots)) / np.prod(x_nodes[k] - lag_roots) * y_nodes[k]\n",
    "        print(lag_pols[k])  # comentar si no se quieren ver los polinomios de Lagrange\n",
    "    interp_poly = np.sum(lag_pols, axis=0)\n",
    "    \n",
    "    return (interp_poly, (x_nodes, y_nodes))\n",
    "    \n",
    "n = 2\n",
    "a = 0\n",
    "b = 1\n",
    "pol, nodes = lagrange_interpolation(a, b, n, \n",
    "                             lambda x: 1 - np.cos(2*np.pi*np.sin(x)), False)\n",
    "print(pol)\n",
    "\n",
    "time = np.linspace(a, b, 1000)\n",
    "plt.figure()\n",
    "plt.plot(time, np.polyval(pol, time), label='Polinomio interpolador', color='b')\n",
    "plt.scatter(nodes[0], nodes[1], marker='o', color='r')\n",
    "plt.title(f'Interpolacion polinomial')\n",
    "plt.legend()\n",
    "plt.show()"
   ]
  },
  {
   "cell_type": "code",
   "execution_count": 94,
   "metadata": {},
   "outputs": [
    {
     "name": "stdout",
     "output_type": "stream",
     "text": [
      "Raiz en iteracion 1: x1 = 0.8244704340303408\n",
      "Raiz en iteracion 2: x2 = 0.8241323765632924\n",
      "Raiz en iteracion 3: x3 = 0.8241323123025248\n",
      "Raiz en iteracion 4: x4 = 0.8241323123025225\n",
      "Raiz por Newton: 0.8241323123025225\n"
     ]
    }
   ],
   "source": [
    "import iterative\n",
    "\n",
    "\"\"\" Resolucion por Newton Raphson \"\"\"\n",
    "\n",
    "def fun_newton(x):\n",
    "    return x**2 - np.cos(x)\n",
    "\n",
    "# f'(x) = 2x + sen(x)\n",
    "def fprime_newton(x):\n",
    "    return 2*x + np.sin(x)\n",
    "\n",
    "a = 0.6\n",
    "b = 1\n",
    "prec = 1e-9\n",
    "root_nr = iterative.newton_raphson(a, b, prec, fun_newton, fprime_newton)\n",
    "print(f'Raiz por Newton: {root_nr}')"
   ]
  },
  {
   "cell_type": "code",
   "execution_count": null,
   "metadata": {},
   "outputs": [],
   "source": []
  },
  {
   "cell_type": "code",
   "execution_count": null,
   "metadata": {},
   "outputs": [],
   "source": []
  }
 ],
 "metadata": {
  "kernelspec": {
   "display_name": "Python 3",
   "language": "python",
   "name": "python3"
  },
  "language_info": {
   "codemirror_mode": {
    "name": "ipython",
    "version": 3
   },
   "file_extension": ".py",
   "mimetype": "text/x-python",
   "name": "python",
   "nbconvert_exporter": "python",
   "pygments_lexer": "ipython3",
   "version": "3.7.6"
  }
 },
 "nbformat": 4,
 "nbformat_minor": 4
}
