{
 "cells": [
  {
   "cell_type": "code",
   "execution_count": 8,
   "metadata": {},
   "outputs": [
    {
     "name": "stdout",
     "output_type": "stream",
     "text": [
      "Item a: p(x) = 0.02014x^2 + 0.22472x + -0.45181\n"
     ]
    },
    {
     "data": {
      "image/png": "[encoded data removed]",
      "text/plain": [
       "<Figure size 432x288 with 1 Axes>"
      ]
     },
     "metadata": {
      "needs_background": "light"
     },
     "output_type": "display_data"
    },
    {
     "name": "stdout",
     "output_type": "stream",
     "text": [
      "Item c: integral = -0.0677\n"
     ]
    }
   ],
   "source": [
    "# Ejercicio 2: Interpolacion polinomial\n",
    "# f(x) = x - ln(2+x)**2\n",
    "import numpy as np\n",
    "import matplotlib.pyplot as plt\n",
    "\n",
    "def f_ej2(x):\n",
    "    return x - np.log(2+x)**2\n",
    "\n",
    "nodes = [1, 1.5, 2]\n",
    "f_nodes = [ f_ej2(node) for node in nodes]\n",
    "ao = 6*f_ej2(1) - 8*f_ej2(1.5) + 3*f_ej2(2)\n",
    "a1 = -7*f_ej2(1) + 12*f_ej2(1.5) - 5*f_ej2(2)\n",
    "a2 = 2*f_ej2(1) - 4*f_ej2(1.5) + 2*f_ej2(2)\n",
    "print(f'Item a: p(x) = {np.round(a2,5)}x^2 + {np.round(a1,5)}x + {np.round(ao,5)}')\n",
    "x = np.linspace(0, 3, 1000)\n",
    "pol = a2*x**2 + a1*x + ao\n",
    "real = f_ej2(x)\n",
    "plt.figure()\n",
    "plt.plot(x, pol, label='Polinomio interpolador', color='b')\n",
    "plt.plot(x, real, label='Funcion original', color='r')\n",
    "plt.scatter(nodes, f_nodes, color='r')\n",
    "plt.title('Interpolacion de x-ln(x+2)^2')\n",
    "plt.legend()\n",
    "plt.show()\n",
    "print(f'Item c: integral = {np.round(7/3.0*np.round(a2,5)+3/2.0*np.round(a1,5)+np.round(ao,5), 4)}')"
   ]
  },
  {
   "cell_type": "code",
   "execution_count": 9,
   "metadata": {},
   "outputs": [
    {
     "name": "stdout",
     "output_type": "stream",
     "text": [
      "Heun con 3 pasos\n",
      "[[1.08676879]\n",
      " [1.17968435]\n",
      " [1.28025363]]\n",
      " \n",
      "Heun con 2 pasos\n",
      "[[1.52005824]\n",
      " [2.29222222]]\n",
      " \n",
      "Heun con 4 pasos\n",
      "[[1.22996459]\n",
      " [1.51133543]\n",
      " [1.85871034]\n",
      " [2.27199114]]\n",
      " \n",
      "C = 0.10789914123546158\n",
      "Item c: h <= 0.009627000755935925\n"
     ]
    }
   ],
   "source": [
    "# Ejercicio 3: EDO Heun\n",
    "# y' = sen(y) + t^2\n",
    "\n",
    "from ode_methods import heun, print_result, richardson, wanted_step\n",
    "\n",
    "def funcion_carga(tn, yn):\n",
    "    return np.sin(yn) + tn**2\n",
    "\n",
    "yo = 1\n",
    "to = 0\n",
    "n = 3\n",
    "hb = 0.1\n",
    "yb = heun(to, hb, n, funcion_carga, yo)\n",
    "print_result('Heun', n, yb[1:], None)\n",
    "\n",
    "n = 2\n",
    "hc1 = 0.5\n",
    "yc1 = heun(to, hc1, n, funcion_carga, yo)\n",
    "print_result('Heun', n, yc1[1:], None)\n",
    "\n",
    "n = 4\n",
    "hc2 = 0.25\n",
    "yc2 = heun(to, hc2, n, funcion_carga, yo)\n",
    "print_result('Heun', n, yc2[1:], None)\n",
    "\n",
    "\n",
    "c = richardson(yc1[-1][0], hc1, yc2[-1][0], hc2, 2)\n",
    "print(f'C = {c}')\n",
    "error = 1e-5\n",
    "print(f'Item c: h <= {wanted_step(c,error,2)}')"
   ]
  },
  {
   "cell_type": "code",
   "execution_count": 19,
   "metadata": {},
   "outputs": [
    {
     "name": "stdout",
     "output_type": "stream",
     "text": [
      "[[ 0.8        -0.64        0.85333333]\n",
      " [ 1.568      -0.14506667  0.76231111]]\n"
     ]
    }
   ],
   "source": [
    "# Ejercicio 4: Sistemas lineales iterativos Gauss-Seidel\n",
    "\n",
    "# Calculan xi en la iteracion k, recibe el arreglo de los xk-1 y de los xk\n",
    "# Cada xi sabe si tiene que usar para cada variable el valor actual xk o el anterior xk-1\n",
    "\n",
    "def x1(xk, xk_1):\n",
    "    return (4 - 2*xk_1[1] + 3*xk_1[2])/5 \n",
    "    \n",
    "def x2(xk, xk_1):\n",
    "    return (4 - xk[0] - 2*xk_1[2])/(-5)\n",
    "    \n",
    "def x3(xk, xk_1):\n",
    "    return (4 - xk[0] + xk[1])/3\n",
    "\n",
    "# xi: Arreglo de callbacks que reciben la iteracion actual y la anterior y devuelven el valor de las variables\n",
    "def gauss_seidel(xi, xo, n):\n",
    "    x = np.zeros((n, len(xo)))\n",
    "    x[0] = xo\n",
    "    for k in range(n):\n",
    "        for j in range(len(xo)):\n",
    "            x[k][j] = xi[j](x[k], x[k-1])\n",
    "    \n",
    "    return x\n",
    "\n",
    "xo = [0, 0, 0]\n",
    "callbacks = [x1, x2, x3]\n",
    "n = 2\n",
    "x = gauss_seidel(callbacks, xo, 2)\n",
    "print(x)"
   ]
  },
  {
   "cell_type": "code",
   "execution_count": 23,
   "metadata": {},
   "outputs": [
    {
     "name": "stdout",
     "output_type": "stream",
     "text": [
      "[1. 1. 1.]\n"
     ]
    }
   ],
   "source": [
    "# Ejercicio 5: Cuadrados minimos\n",
    "\n",
    "A = np.asarray([[4, -2, 1], [1, -1, 1], [0, 0, 1], [1, 1, 1]])\n",
    "b = [3, 1, 1, 3]\n",
    "\n",
    "x = np.linalg.solve(A.T @ A, A.T @ b)\n",
    "print(x)"
   ]
  }
 ],
 "metadata": {
  "kernelspec": {
   "display_name": "Python 3",
   "language": "python",
   "name": "python3"
  },
  "language_info": {
   "codemirror_mode": {
    "name": "ipython",
    "version": 3
   },
   "file_extension": ".py",
   "mimetype": "text/x-python",
   "name": "python",
   "nbconvert_exporter": "python",
   "pygments_lexer": "ipython3",
   "version": "3.7.6"
  }
 },
 "nbformat": 4,
 "nbformat_minor": 4
}
