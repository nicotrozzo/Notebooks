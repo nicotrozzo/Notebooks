{
 "cells": [
  {
   "cell_type": "code",
   "execution_count": 18,
   "metadata": {},
   "outputs": [
    {
     "name": "stdout",
     "output_type": "stream",
     "text": [
      "U:\n",
      " [[-0.5 -0.5  0.1 -0.7]\n",
      " [ 0.5 -0.5 -0.7 -0.1]\n",
      " [ 0.5 -0.5  0.7  0.1]\n",
      " [-0.5 -0.5 -0.1  0.7]]\n",
      "Sigma:\n",
      " [2. 2.]\n",
      "V:\n",
      " [[-1. -0.]\n",
      " [-0. -1.]]\n",
      "\n",
      "Solucion:  [-4. -4.]\n"
     ]
    }
   ],
   "source": [
    "# Ejercicio 1: Cuadrados minimos con DSV\n",
    "# Forma 1: solución como combinación lineal de autovectores vk\n",
    "\n",
    "import numpy as np\n",
    "\n",
    "A = np.asarray([ [1, 1], [-1, 1], [-1, 1], [1, 1] ])\n",
    "U, s, Vt = np.linalg.svd(A, full_matrices=True)\n",
    "\n",
    "print('U:\\n', U)\n",
    "print('Sigma:\\n', s)\n",
    "print('V:\\n', Vt.T)\n",
    "\n",
    "b = [16, 8, -8, -32]\n",
    "x = np.zeros(len(s))\n",
    "for k in range(len(s)):\n",
    "    x += np.dot(U.T[k],b)/s[k] * Vt[k] \n",
    "print('\\nSolucion: ', x)"
   ]
  },
  {
   "cell_type": "code",
   "execution_count": 19,
   "metadata": {},
   "outputs": [
    {
     "name": "stdout",
     "output_type": "stream",
     "text": [
      "Sigma Dagger:\n",
      " [[0.5 0.  0.  0. ]\n",
      " [0.  0.5 0.  0. ]]\n",
      "Solucion con pseudo inversa:  [-4. -4.]\n"
     ]
    }
   ],
   "source": [
    "# Forma 2: Usar matriz pseudo inversa\n",
    "\n",
    "sigma_dagger = np.zeros(A.T.shape)\n",
    "np.fill_diagonal(sigma_dagger, 1/s)\n",
    "\n",
    "print('Sigma Dagger:\\n', sigma_dagger)\n",
    "\n",
    "A_dagger = Vt.T @ sigma_dagger @ U.T\n",
    "x_alt = A_dagger @ b\n",
    "\n",
    "print('Solucion con pseudo inversa: ', x_alt)"
   ]
  },
  {
   "cell_type": "code",
   "execution_count": 3,
   "metadata": {},
   "outputs": [
    {
     "name": "stdout",
     "output_type": "stream",
     "text": [
      "Heun con 2 pasos\n",
      "[[0.09900333]\n",
      " [0.19412721]]\n",
      " \n",
      "Heun con 4 pasos\n",
      "[[0.0498751 ]\n",
      " [0.09925404]\n",
      " [0.1476556 ]\n",
      " [0.19462678]]\n",
      " \n",
      "C = -0.06660908151877215\n",
      "Item c:  0.0006660908151877216\n",
      "Item d:  0.0038746571280073253\n"
     ]
    }
   ],
   "source": [
    "# Ejercicio 4: EDO Heun \n",
    "# y' = cos(y + t)\n",
    "\n",
    "from ode_methods import heun, print_result, richardson, wanted_step\n",
    "\n",
    "def funcion_carga(tn, yn):\n",
    "    return np.cos(tn + yn)\n",
    "\n",
    "yo = 0\n",
    "to = 0\n",
    "ha = 0.1\n",
    "n = 2\n",
    "ya = heun(to, ha, n, funcion_carga, yo)\n",
    "print_result('Heun', n, ya[1:], None)\n",
    "\n",
    "n = 4\n",
    "hb = 0.05\n",
    "yb = heun(to, hb, n, funcion_carga, yo)\n",
    "print_result('Heun', n, yb[1:], None)\n",
    "\n",
    "c = richardson(ya[-1][0], ha, yb[-1][0], hb, 2)\n",
    "print(f'C = {c}')\n",
    "print('Item c: ', np.abs(c*0.1**2))\n",
    "error = 1e-6\n",
    "print('Item d: ', wanted_step(c,error,2))"
   ]
  },
  {
   "cell_type": "code",
   "execution_count": null,
   "metadata": {},
   "outputs": [],
   "source": []
  }
 ],
 "metadata": {
  "kernelspec": {
   "display_name": "Python 3",
   "language": "python",
   "name": "python3"
  },
  "language_info": {
   "codemirror_mode": {
    "name": "ipython",
    "version": 3
   },
   "file_extension": ".py",
   "mimetype": "text/x-python",
   "name": "python",
   "nbconvert_exporter": "python",
   "pygments_lexer": "ipython3",
   "version": "3.7.6"
  }
 },
 "nbformat": 4,
 "nbformat_minor": 4
}
