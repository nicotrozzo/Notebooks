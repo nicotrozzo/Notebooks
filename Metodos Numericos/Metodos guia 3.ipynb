{
 "cells": [
  {
   "cell_type": "code",
   "execution_count": 22,
   "metadata": {},
   "outputs": [
    {
     "name": "stdout",
     "output_type": "stream",
     "text": [
      "Con nodos equiespaciados: n=8\n",
      "Con nodos de chebychev: n=8\n"
     ]
    }
   ],
   "source": [
    "# cos(x) entre 0 y pi/2, pide error menor a 5e-7\n",
    "\n",
    "import numpy as np\n",
    "\n",
    "def f(x):\n",
    "    return np.cos(x)\n",
    "\n",
    "def maxQn(x: np.ndarray, x0, x1):\n",
    "    t = np.arange(x0, x1, (x1-x0)/10000)\n",
    "    Q = np.prod([[ti-xj for ti in t] for xj in x], axis=0)\n",
    "    return np.max(np.abs(Q))\n",
    "\n",
    "error = 5e-7\n",
    "err = 1\n",
    "n = 1\n",
    "a = 0\n",
    "b = np.pi/2\n",
    "\n",
    "while err > error:\n",
    "    xj = np.linspace(a, b, n+1)\n",
    "    c = [f(x) for x in xj]\n",
    "    err = 1*maxQn(xj, a, b)/np.math.factorial(n+1)\n",
    "    n += 1\n",
    "\n",
    "print(f'Con nodos equiespaciados: n={n}')\n",
    "\n",
    "n=1\n",
    "err = 1\n",
    "\n",
    "while err > error:\n",
    "    zj = [np.cos((2*j+1)/(2*(n+1))*np.pi) for j in range(n+1)]\n",
    "    xj = [(b+a)/2 + (b-a)/2*z for z in zj] \n",
    "    c = [f(x) for x in xj]\n",
    "    err = 1*maxQn(xj, 0, np.pi/2)/np.math.factorial(n+1)\n",
    "    n += 1\n",
    "    \n",
    "print(f'Con nodos de chebychev: n={n}')"
   ]
  },
  {
   "cell_type": "code",
   "execution_count": 32,
   "metadata": {},
   "outputs": [
    {
     "name": "stdout",
     "output_type": "stream",
     "text": [
      "x0: 3\n",
      "x1: 2.375\n",
      "x2: 2.079314\n",
      "x3: 2.004627\n",
      "x4: 2.000017\n",
      "x5: 2.0\n"
     ]
    }
   ],
   "source": [
    "def f(x):\n",
    "    return x*x*x -2*x*x+x-2\n",
    "\n",
    "def fprima(x):\n",
    "    return 3*x*x - 4*x + 1\n",
    "\n",
    "n=5\n",
    "xprev = 3\n",
    "xk = 0\n",
    "print('x0: 3')\n",
    "for k in range(n):\n",
    "    xk = np.round((xprev - f(xprev)/fprima(xprev)),6)\n",
    "    print(f'x{k+1}: {xk}')\n",
    "    xprev = xk\n"
   ]
  },
  {
   "cell_type": "code",
   "execution_count": 37,
   "metadata": {},
   "outputs": [
    {
     "name": "stdout",
     "output_type": "stream",
     "text": [
      "a2: -2.0\n",
      "a1: 1.75\n"
     ]
    }
   ],
   "source": [
    "yo = -1.984455543\n",
    "y1 = -2\n",
    "y2 = -5.015544457\n",
    "\n",
    "a2 = yo*2/3 - y1*4/3 + y2*2/3\n",
    "print(f'a2: {np.round(a2,5)}')\n",
    "a1 = yo*np.sqrt(3)/3-y2*np.sqrt(3)/3\n",
    "print(f'a1: {np.round(a1,5)}')"
   ]
  },
  {
   "cell_type": "code",
   "execution_count": null,
   "metadata": {},
   "outputs": [],
   "source": []
  }
 ],
 "metadata": {
  "kernelspec": {
   "display_name": "Python 3",
   "language": "python",
   "name": "python3"
  },
  "language_info": {
   "codemirror_mode": {
    "name": "ipython",
    "version": 3
   },
   "file_extension": ".py",
   "mimetype": "text/x-python",
   "name": "python",
   "nbconvert_exporter": "python",
   "pygments_lexer": "ipython3",
   "version": "3.7.6"
  }
 },
 "nbformat": 4,
 "nbformat_minor": 4
}
