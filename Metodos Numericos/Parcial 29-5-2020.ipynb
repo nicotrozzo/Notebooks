{
 "cells": [
  {
   "cell_type": "code",
   "execution_count": 21,
   "metadata": {},
   "outputs": [
    {
     "name": "stdout",
     "output_type": "stream",
     "text": [
      "[ 0.05644181 -0.10053658  0.01865792]\n",
      "[-0.54037965  1.69765273 -0.33333333]\n",
      "[ 0.05644181 -0.25409775  0.25987124]\n",
      "[-0.42749603  1.34301839 -0.05480418]\n"
     ]
    },
    {
     "data": {
      "image/png": "[encoded data removed]",
      "text/plain": [
       "<Figure size 432x288 with 1 Axes>"
      ]
     },
     "metadata": {
      "needs_background": "light"
     },
     "output_type": "display_data"
    },
    {
     "name": "stdout",
     "output_type": "stream",
     "text": [
      "p(1): 0.8607181821267218\n"
     ]
    }
   ],
   "source": [
    "# Ejercicio 1: Interpolacion polinomial\n",
    "# f(x) = sen(x)\n",
    "import numpy as np\n",
    "import numpy.polynomial.polynomial as poly\n",
    "import matplotlib.pyplot as plt\n",
    "\n",
    "\"\"\"\n",
    "    lagrange_interpolation: \n",
    "     Encuentra el polinomio interpolador de 'f' en [a, b] usando polinomios de lagrange de orden n\n",
    "     Si 'cheby' es True se usan nodos de chebyshev, de lo contrario equiespaciados\n",
    "     Devuelve [an,..., a1, a0] que es como np.polyval() recibe los coeficientes\n",
    "\"\"\"\n",
    "def lagrange_interpolation(a, b, n, f, cheby):\n",
    "    if cheby:\n",
    "        zj = [np.cos((2*j+1)/(2*(n+1))*np.pi) for j in range(n+1)]\n",
    "        x_nodes = [(b+a)/2 + (b-a)/2*z for z in zj] \n",
    "    else:\n",
    "        x_nodes = np.linspace(a, b, n + 1)\n",
    "    y_nodes = [f(x) for x in x_nodes]\n",
    "    # hay n+1 polinomios con n+1 coeficientes\n",
    "    lag_pols = np.zeros((n + 1, n + 1)) \n",
    "    for k in range(len(x_nodes)):\n",
    "        # Formamos el polinomio de lagrange k a partir de sus raices\n",
    "        lag_roots = np.delete(x_nodes, k)\n",
    "        lag_pols[k] = np.flip(poly.polyfromroots(lag_roots)) / np.prod(x_nodes[k] - lag_roots) * y_nodes[k]\n",
    "        print(lag_pols[k])  # comentar si no se quieren ver los polinomios de Lagrange\n",
    "    interp_poly = np.sum(lag_pols, axis=0)\n",
    "    \n",
    "    return (interp_poly, (x_nodes, y_nodes))\n",
    "    \n",
    "n = 2\n",
    "a = 0\n",
    "b = np.pi\n",
    "pol, nodes = lagrange_interpolation(a, b, n, \n",
    "                             lambda x: np.sin(x), True)\n",
    "print(pol)\n",
    "\n",
    "time = np.linspace(a, b, 1000)\n",
    "plt.figure()\n",
    "plt.plot(time, np.polyval(pol, time), label='Polinomio interpolador', color='b')\n",
    "plt.scatter(nodes[0], nodes[1], marker='o', color='b')\n",
    "plt.title(f'Interpolacion polinomial')\n",
    "plt.legend()\n",
    "plt.show()\n",
    "\n",
    "print(f'p(1): {np.polyval(pol, 1)}')"
   ]
  },
  {
   "cell_type": "code",
   "execution_count": 22,
   "metadata": {},
   "outputs": [
    {
     "name": "stdout",
     "output_type": "stream",
     "text": [
      "Raiz en iteracion 1: x1 = 1.6666666666666665\n",
      "Raiz en iteracion 2: x2 = 1.471111111111111\n",
      "Raiz en iteracion 3: x3 = 1.4428120982493433\n",
      "Raiz en iteracion 4: x4 = 1.4422497895989996\n",
      "Raiz en iteracion 5: x5 = 1.4422495703074416\n",
      "Raiz en iteracion 6: x6 = 1.4422495703074083\n",
      "Raiz por Newton: 1.4422495703074083\n"
     ]
    }
   ],
   "source": [
    "# Ejercicio 2: Iteracion Newton Raphson\n",
    "# f(x) = x^3 - 3\n",
    "\n",
    "import iterative\n",
    "\n",
    "\n",
    "\n",
    "def fun_newton(x):\n",
    "    return x**3 - 3\n",
    "\n",
    "# f'(x) = 3x^2\n",
    "def fprime_newton(x):\n",
    "    return 3*x**2\n",
    "\n",
    "a = 0.5\n",
    "b = 1.5\n",
    "prec = 1e-9\n",
    "root_nr = iterative.newton_raphson(a, b, prec, fun_newton, fprime_newton)\n",
    "print(f'Raiz por Newton: {root_nr}')"
   ]
  },
  {
   "cell_type": "code",
   "execution_count": 23,
   "metadata": {},
   "outputs": [
    {
     "name": "stdout",
     "output_type": "stream",
     "text": [
      "[[-5.71428571e-01  3.06122449e-01  2.78134111e+00  4.75947522e-01]\n",
      " [-2.08246564e-04  8.01600524e-01  3.22209709e+00  6.05072079e-01]]\n"
     ]
    }
   ],
   "source": [
    "# Ejercicio 4: Iteracion Gauss-Seidel\n",
    "\n",
    "# Calculan xi en la iteracion k, recibe el arreglo de los xk-1 y de los xk\n",
    "# Cada xi sabe si tiene que usar para cada variable el valor actual xk o el anterior xk-1\n",
    "\n",
    "def x1(xk, xk_1):\n",
    "    return (-4 - 2*xk_1[1] + 2*xk_1[2] - 2*xk_1[3])/(7)\n",
    "\n",
    "def x2(xk, xk_1):\n",
    "    return (1 - 2*xk[0] + 2*xk_1[2] - 2*xk_1[3])/(7)\n",
    "    \n",
    "def x3(xk, xk_1):\n",
    "    return (20 + 2*xk[0] + 2*xk[1] + 2*xk_1[3])/(7)\n",
    "    \n",
    "def x4(xk, xk_1):\n",
    "    return (-2*xk[0] + 2*xk[1] - 2*xk[2])/(-8)\n",
    "    \n",
    "# xi: Arreglo de callbacks que reciben la iteracion actual y la anterior y devuelven el valor de las variables\n",
    "def gauss_seidel(xi, xo, n):\n",
    "    x = np.zeros((n, len(xo)))\n",
    "    x[0] = xo\n",
    "    for k in range(n):\n",
    "        for j in range(len(xo)):\n",
    "            x[k][j] = xi[j](x[k], x[k-1])\n",
    "    \n",
    "    return x\n",
    "\n",
    "xo = [0, 0, 0, 0]\n",
    "callbacks = [x1, x2, x3, x4]\n",
    "n = 2\n",
    "x = gauss_seidel(callbacks, xo, 2)\n",
    "print(f'{x}')"
   ]
  },
  {
   "cell_type": "code",
   "execution_count": 35,
   "metadata": {},
   "outputs": [
    {
     "name": "stdout",
     "output_type": "stream",
     "text": [
      "f(0, [1.]): [-1.]\n",
      "f(0.1, [0.895]): [-0.89052873]\n",
      "Taylor orden 2 con 2 pasos\n",
      "[[0.895     ]\n",
      " [0.80141886]]\n",
      " \n"
     ]
    }
   ],
   "source": [
    "# Ejercicio 5: EDO Taylor\n",
    "# y' = -y cos(t)\n",
    "\n",
    "from ode_methods import print_result\n",
    "\n",
    "def taylor(order, to, h, n, yderiv, yo):\n",
    "    if (type(yo) is int) or (type(yo) is float):\n",
    "        yo = [yo]\n",
    "    y = np.zeros((n+1, len(yo)))\n",
    "    y[0] = yo\n",
    "    t = to\n",
    "    for k in range(1, n+1):\n",
    "        y[k] = y[k-1]\n",
    "        for i in range(order):\n",
    "            y[k] += h**(i+1)*((yderiv[i])(t, y[k-1]))/np.math.factorial(i+1)\n",
    "        t = t + h\n",
    "    return y\n",
    "\n",
    "def y_deriv_1(tn, yn):\n",
    "    print(f'f({tn}, {yn}): {-yn*np.cos(tn)}')\n",
    "    return -yn*np.cos(tn)\n",
    "\n",
    "def y_deriv_2(tn, yn):\n",
    "    return -np.cos(tn) + yn*np.sin(tn)\n",
    "\n",
    "yo = 1\n",
    "to = 0\n",
    "order = 2\n",
    "h = 0.1\n",
    "n = 2\n",
    "y = taylor(order, \n",
    "             to, \n",
    "             h, \n",
    "             n, \n",
    "             [\n",
    "                 lambda tn, yn: (-yn*np.cos(tn)),\n",
    "                 lambda tn, yn: (-np.cos(tn) + yn*np.sin(tn))\n",
    "             ],\n",
    "             yo)\n",
    "\n",
    "print_result(f'Taylor orden {order}', n, y[1:], None)"
   ]
  },
  {
   "cell_type": "code",
   "execution_count": null,
   "metadata": {},
   "outputs": [],
   "source": []
  }
 ],
 "metadata": {
  "kernelspec": {
   "display_name": "Python 3",
   "language": "python",
   "name": "python3"
  },
  "language_info": {
   "codemirror_mode": {
    "name": "ipython",
    "version": 3
   },
   "file_extension": ".py",
   "mimetype": "text/x-python",
   "name": "python",
   "nbconvert_exporter": "python",
   "pygments_lexer": "ipython3",
   "version": "3.7.6"
  }
 },
 "nbformat": 4,
 "nbformat_minor": 4
}
