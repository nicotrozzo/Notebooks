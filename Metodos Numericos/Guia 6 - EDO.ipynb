{
 "cells": [
  {
   "cell_type": "code",
   "execution_count": 5,
   "metadata": {},
   "outputs": [],
   "source": [
    "\"\"\" Funciones para cada metodo de resolucion de EDOs \"\"\"\n",
    "\n",
    "import numpy as np\n",
    "\n",
    "\"\"\" \n",
    "    Euler\n",
    "    @param to: tiempo inicial\n",
    "    @param h: paso\n",
    "    @param n: numero de iteraciones a realizar (implicitamente esto define el tf)\n",
    "    @param yo: condiciones iniciales, su tipo y tamaño en caso de ser un arreglo definen \n",
    "                si se trata de una sola ecuacion o un sistema\n",
    "    @param f: callback a la funcion de carga, que debe tener el siguiente prototipo:\n",
    "                f(tn, yn) -> devuelve un elemento del mismo tipo y tamaño que yn (escalar o arreglo en caso de un sistema)\n",
    "\"\"\"\n",
    "def euler(to, h, n, f, yo):\n",
    "    if (type(yo) is int) or (type(yo) is float):\n",
    "        yo = [yo]\n",
    "    y = np.zeros((n+1, len(yo)))\n",
    "    y[0] = yo\n",
    "    t = to\n",
    "    for k in range(1, n+1):\n",
    "        y[k] = y[k-1] + h*f(t,y[k-1])\n",
    "        t = t + h\n",
    "    return y\n",
    "\n",
    "\"\"\" \n",
    "    Heun\n",
    "    @param to: tiempo inicial\n",
    "    @param h: paso\n",
    "    @param n: numero de iteraciones a realizar (implicitamente esto define el tf)\n",
    "    @param yo: condiciones iniciales, su tipo y tamaño en caso de ser un arreglo definen \n",
    "                si se trata de una sola ecuacion o un sistema\n",
    "    @param f: callback a la funcion de carga, que debe tener el siguiente prototipo:\n",
    "                f(tn, yn) -> devuelve un elemento del mismo tipo y tamaño que yn (escalar o arreglo en caso de un sistema)\n",
    "\"\"\"\n",
    "def heun(to, h, n, f, yo):\n",
    "    if (type(yo) is int) or (type(yo) is float):\n",
    "        yo = [yo]\n",
    "    y = np.zeros((n+1, len(yo)))\n",
    "    y[0] = yo\n",
    "    K1 = 0\n",
    "    K2 = 0\n",
    "    t = to\n",
    "    for k in range(1, n+1):\n",
    "        K1 = f(t, y[k-1])\n",
    "        t = t + h\n",
    "        K2 = f(t, y[k-1] + h*K1)\n",
    "        y[k] = y[k-1] + h/2*(K1 + K2)\n",
    "    return y\n",
    "\n",
    "\"\"\" \n",
    "    Taylor\n",
    "    @param order: orden del metodo requerido\n",
    "    @param to: tiempo inicial\n",
    "    @param h: paso\n",
    "    @param n: numero de iteraciones a realizar (implicitamente esto define el tf)\n",
    "    @param yo: condiciones iniciales, su tipo y tamaño en caso de ser un arreglo definen \n",
    "                si se trata de una sola ecuacion o un sistema\n",
    "    @param yderiv: callback a las derivadas de y. Debe hacer {order} callbacks, que deben tener el siguiente prototipo:\n",
    "                yderiv[i](tn, yn) -> devuelve un elemento del mismo tipo y tamaño que yn (escalar o arreglo en caso de un sistema)\n",
    "\"\"\"\n",
    "def taylor(order, to, h, n, yderiv, yo):\n",
    "    if (type(yo) is int) or (type(yo) is float):\n",
    "        yo = [yo]\n",
    "    y = np.zeros((n+1, len(yo)))\n",
    "    y[0] = yo\n",
    "    t = to\n",
    "    for k in range(1, n+1):\n",
    "        y[k] = y[k-1]\n",
    "        for i in range(order):\n",
    "            y[k] += h**(i+1)*(yderiv[i])(t, y[k-1])/np.math.factorial(i+1)\n",
    "        t = t + h\n",
    "    return y\n",
    "    \n",
    "\"\"\" Funcion simple para mostrar el resultado y opcionalmente el error si el parametros 'real' no es None \"\"\"\n",
    "def print_result(method, n, res, real):\n",
    "    print(f'{method} con {n} pasos')\n",
    "    print(res)\n",
    "    if real is not None:\n",
    "        print(f'Error: {np.abs(res[-1][-1] - real):.8f}')\n",
    "    print(' ')"
   ]
  },
  {
   "cell_type": "code",
   "execution_count": 3,
   "metadata": {},
   "outputs": [
    {
     "name": "stdout",
     "output_type": "stream",
     "text": [
      "EJERCICIO 1\n",
      "Solucion real: 7.132863285883928\n",
      " \n",
      "Euler con 2 pasos\n",
      "[[1.9 ]\n",
      " [3.88]]\n",
      "Error: 3.25286\n",
      " \n",
      "Euler con 6 pasos\n",
      "[[1.3     ]\n",
      " [1.72    ]\n",
      " [2.296   ]\n",
      " [3.0748  ]\n",
      " [4.11724 ]\n",
      " [5.502412]]\n",
      "Error: 1.63045\n",
      " \n"
     ]
    }
   ],
   "source": [
    "# Ej 1: Metodo de Euler\n",
    "# yn+1 = yn + h*K1 \n",
    "# y' = 3y + 3t\n",
    "def funcion_carga_ej1y2(tn, yn):\n",
    "    return 3*yn+3*tn\n",
    "\n",
    "print('EJERCICIO 1')\n",
    "sol = np.exp(3*0.6)*4/3 - 0.6 - 1/3\n",
    "print(f'Solucion real: {sol}')\n",
    "print(' ')\n",
    "    \n",
    "yo = 1\n",
    "to = 0\n",
    "\n",
    "h = 0.3\n",
    "n = 2\n",
    "y = euler(to, h, n, funcion_carga_ej1y2, yo)\n",
    "print_result('Euler', n, y[1:], sol)\n",
    "\n",
    "n = 6\n",
    "h = 0.1\n",
    "y = euler(to, h, n, funcion_carga_ej1y2, yo)\n",
    "print_result('Euler', n, y[1:], sol)"
   ]
  },
  {
   "cell_type": "code",
   "execution_count": 4,
   "metadata": {},
   "outputs": [
    {
     "name": "stdout",
     "output_type": "stream",
     "text": [
      "EJERCICIO 2\n",
      "Heun con 2 pasos\n",
      "[[2.44  ]\n",
      " [6.1507]]\n",
      "Error: 0.98216\n",
      " \n",
      "Heun con 6 pasos\n",
      "[[1.36      ]\n",
      " [1.8787    ]\n",
      " [2.6108515 ]\n",
      " [3.63009527]\n",
      " [5.03547813]\n",
      " [6.96021809]]\n",
      "Error: 0.17265\n",
      " \n"
     ]
    }
   ],
   "source": [
    "# Ej 2: Metodo de Heun\n",
    "# yn+1 = yn + h/2[K1 + K2]\n",
    "# K1 = f(tn, yn)\n",
    "# K2 = f(tn + h, yn + hK1)\n",
    "\n",
    "# y' = 3y + 3t\n",
    "print('EJERCICIO 2')\n",
    "h = 0.3\n",
    "n = 2\n",
    "y = heun(to, h, n, funcion_carga_ej1y2, yo)\n",
    "print_result('Heun', n, y[1:], sol)\n",
    "\n",
    "n = 6\n",
    "h = 0.1\n",
    "y = heun(to, h, n, funcion_carga_ej1y2, yo)\n",
    "print_result('Heun', n, y[1:], sol)"
   ]
  },
  {
   "cell_type": "code",
   "execution_count": 3,
   "metadata": {},
   "outputs": [
    {
     "name": "stdout",
     "output_type": "stream",
     "text": [
      "EJERCICIO 3\n",
      "Heun con 3 pasos\n",
      "[[0.9095    ]\n",
      " [0.83396215]\n",
      " [0.76997115]]\n",
      " \n"
     ]
    }
   ],
   "source": [
    "# Ejercicio 3\n",
    "# y' = -y^2 \n",
    "\n",
    "print('EJERCICIO 3')\n",
    "to = 0\n",
    "yo = 1\n",
    "h = 0.1\n",
    "n = 3\n",
    "y = heun(to, h, n, lambda tn, yn: -yn**2, yo)\n",
    "print_result('Heun', n, y[1:], None)"
   ]
  },
  {
   "cell_type": "code",
   "execution_count": 10,
   "metadata": {},
   "outputs": [
    {
     "name": "stdout",
     "output_type": "stream",
     "text": [
      "EJERCICIO 4\n",
      "Solucion real: 0.7044797933386604\n",
      " \n",
      "Taylor orden 3 con 3 pasos\n",
      "[[0.90016667]\n",
      " [0.80133125]\n",
      " [0.70448128]]\n",
      "Error: 0.00000149\n",
      " \n"
     ]
    }
   ],
   "source": [
    "# Ejercicio 4: Taylor de tecer orden\n",
    "# y' = -cos(t)\n",
    "\n",
    "print('EJERCICIO 4')\n",
    "sol = -np.sin(0.3) + 1\n",
    "print(f'Solucion real: {sol}')\n",
    "print(' ')\n",
    "to = 0\n",
    "yo = 1\n",
    "h = 0.1\n",
    "n = 3\n",
    "order = 3\n",
    "load_functions = [lambda tn, yn: -np.cos(tn), lambda tn, yn: np.sin(tn), lambda tn, yn: np.cos(tn)]\n",
    "y = taylor(order, to, h, n, load_functions, yo)\n",
    "print_result(f'Taylor orden {order}', n, y[1:], sol)"
   ]
  },
  {
   "cell_type": "code",
   "execution_count": 9,
   "metadata": {},
   "outputs": [
    {
     "name": "stdout",
     "output_type": "stream",
     "text": [
      "EJERCICIO 5\n",
      "Taylor orden 2 con 3 pasos\n",
      "[[0.91      ]\n",
      " [0.83472571]\n",
      " [0.7708651 ]]\n",
      " \n"
     ]
    }
   ],
   "source": [
    "# Ejercicio 5: Taylor de segundo orden\n",
    "# y' = -y^2\n",
    "\n",
    "print('EJERCICIO 5')\n",
    "to = 0\n",
    "yo = 1\n",
    "h = 0.1\n",
    "n = 3\n",
    "order = 2\n",
    "load_functions = [lambda tn, yn: -yn**2, lambda tn, yn: 2*yn**3]\n",
    "y = taylor(order, to, h, n, load_functions, yo)\n",
    "print_result(f'Taylor orden {order}', n, y[1:], None)"
   ]
  },
  {
   "cell_type": "code",
   "execution_count": 15,
   "metadata": {},
   "outputs": [
    {
     "name": "stdout",
     "output_type": "stream",
     "text": [
      "EJERCICIO 6\n",
      "Taylor orden 3 con 3 pasos\n",
      "[[1.09983333]\n",
      " [1.19880989]\n",
      " [1.29607447]]\n",
      " \n"
     ]
    }
   ],
   "source": [
    "# Ejercicio 6: Taylor de tercer orden\n",
    "# y' = ye^-t\n",
    "\n",
    "print('EJERCICIO 6')\n",
    "to = 0\n",
    "yo = 1\n",
    "h = 0.1\n",
    "n = 3\n",
    "order = 3\n",
    "load_functions = [lambda tn, yn: yn*np.exp(-tn), lambda tn, yn: yn*np.exp(-tn)*(np.exp(-tn) - 1), lambda tn, yn: yn*np.exp(-tn)*(np.exp(-2*tn) - 3*np.exp(-3*tn) + 1)]\n",
    "y = taylor(order, to, h, n, load_functions, yo)\n",
    "print_result(f'Taylor orden {order}', n, y[1:], None)"
   ]
  },
  {
   "cell_type": "code",
   "execution_count": 17,
   "metadata": {},
   "outputs": [
    {
     "name": "stdout",
     "output_type": "stream",
     "text": [
      "EJERCICIO 7\n",
      "Euler con 4 pasos\n",
      "[[ 0.      1.5   ]\n",
      " [-0.75    1.5   ]\n",
      " [-1.125   1.125 ]\n",
      " [-1.125   0.5625]]\n",
      " \n"
     ]
    }
   ],
   "source": [
    "# Ejercicio 7: Euler sistema 2 orden\n",
    "# y'' + y' + y = 0\n",
    "\n",
    "print('EJERCICIO 7')\n",
    "yo = [1, 1]\n",
    "to = 0\n",
    "\n",
    "h = 0.5\n",
    "n = 4\n",
    "y = euler(to, h, n, lambda tn, yn: np.asarray([-yn[0] - yn[1], yn[0]]), yo)\n",
    "print_result('Euler', n, y[1:], None)"
   ]
  },
  {
   "cell_type": "code",
   "execution_count": 18,
   "metadata": {},
   "outputs": [
    {
     "name": "stdout",
     "output_type": "stream",
     "text": [
      "EJERCICIO 8\n",
      "Solucion real: 76.52337621078834\n",
      " \n",
      "Euler con 10 pasos\n",
      "[[  3.8          2.1       ]\n",
      " [  7.81315621   2.48      ]\n",
      " [ 13.49505083   3.26131562]\n",
      " [ 21.45777818   4.6108207 ]\n",
      " [ 32.52131292   6.75659852]\n",
      " [ 47.78126504  10.00872981]\n",
      " [ 68.69815385  14.78685632]\n",
      " [ 97.21492068  21.6566717 ]\n",
      " [135.91147456  31.37816377]\n",
      " [188.20777456  44.96931123]]\n",
      "Error: 31.55406499\n",
      " \n"
     ]
    }
   ],
   "source": [
    "# Ejercicio 8: Euler sistema 2 orden\n",
    "# 2y'' - 5y' - 3y = 45e^2t\n",
    "\n",
    "def funcion_carga_ej8y9(tn, yn):\n",
    "    return np.asarray([(5*yn[0] + 3*yn[1] + 45*np.exp(2*tn))/2, yn[0]])\n",
    "\n",
    "print('EJERCICIO 8')\n",
    "\n",
    "sol = 4*np.exp(-1/2.0) + 7*np.exp(3*1) - 9*np.exp(2)\n",
    "print(f'Solucion real: {sol}')\n",
    "print(' ')\n",
    "\n",
    "yo = [1, 2]  # yo = [x0, y0] porque xk = [x, y]\n",
    "to = 0\n",
    "h = 0.1\n",
    "n = 10\n",
    "y = euler(to, h, n, funcion_carga_ej8y9, yo)\n",
    "print_result('Euler', n, y[1:], sol)"
   ]
  },
  {
   "cell_type": "code",
   "execution_count": 19,
   "metadata": {},
   "outputs": [
    {
     "name": "stdout",
     "output_type": "stream",
     "text": [
      "EJERCICIO 9\n",
      "Solucion real: 76.52337621078834\n",
      " \n",
      "Heun con 10 pasos\n",
      "[[  4.4065781    2.24      ]\n",
      " [  9.45287794   2.88994785]\n",
      " [ 16.81783728   4.1429015 ]\n",
      " [ 27.43919053   6.27096832]\n",
      " [ 42.60821669   9.65528287]\n",
      " [ 64.0983836   14.82692858]\n",
      " [ 94.33985045  22.52271185]\n",
      " [136.65597633  33.76107536]\n",
      " [195.5836262   49.94529691]\n",
      " [277.30667198  73.00362993]]\n",
      "Error: 3.51974628\n",
      " \n"
     ]
    }
   ],
   "source": [
    "# Ejercicio 9: Heun sistema 2 orden\n",
    "# 2y'' - 5y' - 3y = 45e^2t\n",
    "\n",
    "print('EJERCICIO 9')\n",
    "\n",
    "sol = 4*np.exp(-1/2.0) + 7*np.exp(3*1) - 9*np.exp(2)\n",
    "print(f'Solucion real: {sol}')\n",
    "print(' ')\n",
    "\n",
    "yo = [1, 2]  # yo = [x0, y0] porque xk = [x, y]\n",
    "to = 0\n",
    "h = 0.1\n",
    "n = 10\n",
    "y = heun(to, h, n, funcion_carga_ej8y9, yo)\n",
    "print_result('Heun', n, y[1:], sol)"
   ]
  },
  {
   "cell_type": "code",
   "execution_count": 20,
   "metadata": {},
   "outputs": [
    {
     "name": "stdout",
     "output_type": "stream",
     "text": [
      "EJERCICIO 10\n",
      "Taylor orden 2 con 2 pasos\n",
      "[[1.11      ]\n",
      " [1.24417764]]\n",
      " \n",
      "Taylor orden 2 con 4 pasos\n",
      "[[1.0525    ]\n",
      " [1.11051186]\n",
      " [1.1747641 ]\n",
      " [1.24610814]]\n",
      " \n"
     ]
    }
   ],
   "source": [
    "# Ejercicio 10: Taylor de segundo orden\n",
    "# y' = y^2cos(t)\n",
    "\n",
    "def y_deriv_1_ej10(tn, yn):\n",
    "    return yn**2*np.cos(tn)\n",
    "\n",
    "def y_deriv_2_ej10(tn, yn):\n",
    "    return yn**2*(2*np.cos(tn)**2-np.sin(tn))\n",
    "\n",
    "print('EJERCICIO 10')\n",
    "\n",
    "to = 0\n",
    "yo = 1\n",
    "h = 0.1\n",
    "n = 2\n",
    "order = 2\n",
    "y = taylor(order, to, h, n, [y_deriv_1_ej10, y_deriv_2_ej10], yo)\n",
    "print_result(f'Taylor orden {order}', n, y[1:], None)\n",
    "\n",
    "h = 0.05\n",
    "n = 4\n",
    "order = 2\n",
    "y = taylor(order, to, h, n, [y_deriv_1_ej10, y_deriv_2_ej10], yo)\n",
    "print_result(f'Taylor orden {order}', n, y[1:], None)"
   ]
  }
 ],
 "metadata": {
  "kernelspec": {
   "display_name": "Python 3",
   "language": "python",
   "name": "python3"
  },
  "language_info": {
   "codemirror_mode": {
    "name": "ipython",
    "version": 3
   },
   "file_extension": ".py",
   "mimetype": "text/x-python",
   "name": "python",
   "nbconvert_exporter": "python",
   "pygments_lexer": "ipython3",
   "version": "3.7.6"
  }
 },
 "nbformat": 4,
 "nbformat_minor": 4
}
