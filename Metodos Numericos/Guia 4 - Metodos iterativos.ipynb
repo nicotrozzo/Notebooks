{
 "cells": [
  {
   "cell_type": "code",
   "execution_count": 4,
   "metadata": {},
   "outputs": [],
   "source": [
    "\"\"\" Implementacion de metodos iterativos para resolucion de ecuaciones no lineales y sistemas lineales \"\"\"\n",
    "\n",
    "import numpy as np\n",
    "\n",
    "\"\"\" \n",
    "    bisec: Metodo de la biseccion en [a, b] con tolerancia 'tol', recibe callback a la funcion para evaluarla\n",
    "\"\"\"\n",
    "def bisec(a, b, tol, f):\n",
    "    a_new = a\n",
    "    b_new = b\n",
    "    n = int(np.ceil(np.log2((b_new - a_new)/tol)) - 1)\n",
    "    print(f'Se precisan {n} iteraciones')\n",
    "    for i in range(n):\n",
    "        c = a_new + (b_new - a_new)/2\n",
    "        if (f(c)*f(a_new)) >= 0:\n",
    "            a_new = c\n",
    "        else:\n",
    "            b_new = c\n",
    "        print(f'Raiz en iteracion {i + 1}: {(a_new + b_new)/2}')\n",
    "    return (a_new + b_new) / 2\n",
    "\n",
    "\"\"\" \n",
    "    fixed_point: Metodo de punto fijo arranca en xo con tolerancia 'tol', recibe callback a la funcion para evaluarla\n",
    "\"\"\"\n",
    "def fixed_point(xo, tol, f):\n",
    "    x0 = 0\n",
    "    x1 = xo\n",
    "    i = 0\n",
    "    while np.abs(x1 - x0) > tol or not i:\n",
    "        x0 = x1\n",
    "        x1 = f(x0)\n",
    "        i += 1\n",
    "        print(f'Raiz en iteracion {i}: x{i} = {x1}')\n",
    "    return x1\n",
    "\n",
    "\"\"\" \n",
    "    newton_raphson: Metodo de Newton en [a, b] con tolerancia 'tol', recibe callback a la funcion y su derivada para evaluarlas\n",
    "\"\"\"\n",
    "def newton_raphson(a, b, tol, f, fprime):\n",
    "    x0 = (a + b) / 2 + 1000\n",
    "    x1 = (a + b) / 2\n",
    "    i = 0\n",
    "    while np.abs(x1 - x0) > tol:\n",
    "        x0 = x1\n",
    "        x1 = x0 - f(x0)/fprime(x0)\n",
    "        i += 1\n",
    "        print(f'Raiz en iteracion {i}: x{i} = {x1}')\n",
    "    return x1\n",
    "\n",
    "\n",
    "\n",
    "    \n",
    "# xi: Arreglo de callbacks que reciben la iteracion actual y la anterior y devuelven el valor de las variables\n",
    "def gauss_seidel(xi, xo, n):\n",
    "    x = np.zeros((n, len(xo)))\n",
    "    x[0] = xo\n",
    "    for k in range(n):\n",
    "        for j in range(len(xo)):\n",
    "            x[k][j] = xi[j](x[k], x[k-1])\n",
    "    \n",
    "    return x\n",
    "\n",
    "\"\"\"\n",
    "    No llegue a probar estas\n",
    "    \n",
    "# xi: Arreglo de callbacks que reciben la iteracion anterior y devuelven el valor de las variables\n",
    "def jacobi(xi, xo, n):\n",
    "    x = np.zeros((n, len(xo)))\n",
    "    x[0] = xo\n",
    "    for k in range(n):\n",
    "        for j in range(len(xo)):\n",
    "            x[k][j] = xi[j](x[k-1])\n",
    "\n",
    "    return x\n",
    "\n",
    "# xi: Arreglo de callbacks que reciben la iteracion actual y la anterior y devuelven el valor de las variables\n",
    "def sor(xi, xo, n, w):\n",
    "    x = np.zeros((n, len(xo)))\n",
    "    x[0] = xo\n",
    "    for k in range(n):\n",
    "        for j in range(len(xo)):\n",
    "            x[k][j] = (1-w)*x[k-1][j] + w*xi[j](x[k], x[k-1])\n",
    "    \n",
    "    return x\n",
    "    \n",
    "\"\"\""
   ]
  },
  {
   "cell_type": "markdown",
   "metadata": {},
   "source": [
    "## Guia 4 - Ejercicio 4\n",
    "Hallar raíz de $f(x) = ln(x) - 5 + x$ \\\n",
    "Se realiza con el metodo de la biseccion, punto fijo, Newton Raphson y secante.\n",
    "_______"
   ]
  },
  {
   "cell_type": "code",
   "execution_count": 7,
   "metadata": {},
   "outputs": [
    {
     "name": "stdout",
     "output_type": "stream",
     "text": [
      "Se precisan 19 iteraciones\n",
      "Raiz en iteracion 1: 3.8\n",
      "Raiz en iteracion 2: 3.7\n",
      "Raiz en iteracion 3: 3.6500000000000004\n",
      "Raiz en iteracion 4: 3.6750000000000003\n",
      "Raiz en iteracion 5: 3.6875\n",
      "Raiz en iteracion 6: 3.69375\n",
      "Raiz en iteracion 7: 3.690625\n",
      "Raiz en iteracion 8: 3.6921875\n",
      "Raiz en iteracion 9: 3.6929687500000004\n",
      "Raiz en iteracion 10: 3.693359375\n",
      "Raiz en iteracion 11: 3.6935546875\n",
      "Raiz en iteracion 12: 3.69345703125\n",
      "Raiz en iteracion 13: 3.693408203125\n",
      "Raiz en iteracion 14: 3.6934326171875\n",
      "Raiz en iteracion 15: 3.6934448242187496\n",
      "Raiz en iteracion 16: 3.6934387207031247\n",
      "Raiz en iteracion 17: 3.693441772460937\n",
      "Raiz en iteracion 18: 3.693440246582031\n",
      "Raiz en iteracion 19: 3.693441009521484\n",
      "Raiz por biseccion: 3.693441009521484\n"
     ]
    }
   ],
   "source": [
    "\"\"\" Resolucion por metodo de la biseccion \"\"\"\n",
    "\n",
    "tol = 1e-6\n",
    "a = 3.2\n",
    "b = 4\n",
    "root_bisec = bisec(a, b, tol, lambda x: np.log(x) - 5 + x)\n",
    "print(f'Raiz por biseccion: {root_bisec}')\n",
    "# import scipy.optimize\n",
    "# root_python = scipy.optimize.bisect(fun_ej4, a, b, xtol=tol)\n",
    "# print(f'Raiz por biseccion Python: {root_python}')"
   ]
  },
  {
   "cell_type": "code",
   "execution_count": 9,
   "metadata": {},
   "outputs": [
    {
     "name": "stdout",
     "output_type": "stream",
     "text": [
      "Raiz en iteracion 1: x1 = 3.719066154537936\n",
      "Raiz en iteracion 2: x2 = 3.686527396955546\n",
      "Raiz en iteracion 3: x3 = 3.695315069881811\n",
      "Raiz en iteracion 4: x4 = 3.6929341799842224\n",
      "Raiz en iteracion 5: x5 = 3.6935786872008807\n",
      "Raiz en iteracion 6: x6 = 3.693404178002865\n",
      "Raiz en iteracion 7: x7 = 3.693451425763211\n",
      "Raiz en iteracion 8: x8 = 3.693438633375521\n",
      "Raiz en iteracion 9: x9 = 3.6934420969136506\n",
      "Raiz en iteracion 10: x10 = 3.6934411591597445\n",
      "Raiz por punto fijo: 3.6934411591597445\n"
     ]
    }
   ],
   "source": [
    "\"\"\" Resolucion por punto fijo \"\"\"\n",
    "\n",
    "a = 3.2\n",
    "b = 4\n",
    "tol = 1e-6\n",
    "root_fp = fixed_point((a + b)/2, tol, lambda x: 5 - np.log(x))\n",
    "print(f'Raiz por punto fijo: {root_fp}')\n",
    "# root_python = scipy.optimize.fixed_point(fun_fixed_point, (a + b)/2, xtol=tol)\n",
    "# print(f'Raiz por biseccion Python: {root_python}')"
   ]
  },
  {
   "cell_type": "code",
   "execution_count": 10,
   "metadata": {},
   "outputs": [
    {
     "name": "stdout",
     "output_type": "stream",
     "text": [
      "Raiz en iteracion 1: x1 = 3.6931822078992544\n",
      "Raiz en iteracion 2: x2 = 3.6934413570233913\n",
      "Raiz en iteracion 3: x3 = 3.6934413589606496\n",
      "Raiz por Newton: 3.6934413589606496\n"
     ]
    }
   ],
   "source": [
    "\"\"\" Resolucion por Newton Raphson \"\"\"\n",
    "\n",
    "# f'(x) = 1 - 1/x\n",
    "def fprime_newton(x):\n",
    "    return 1 + 1/x\n",
    "\n",
    "a = 3.2\n",
    "b = 4\n",
    "prec = 1e-6\n",
    "root_nr = newton_raphson(a, b, prec, lambda x: np.log(x) - 5 + x, fprime_newton)\n",
    "print(f'Raiz por Newton: {root_nr}')"
   ]
  },
  {
   "cell_type": "code",
   "execution_count": null,
   "metadata": {},
   "outputs": [],
   "source": []
  }
 ],
 "metadata": {
  "kernelspec": {
   "display_name": "Python 3",
   "language": "python",
   "name": "python3"
  },
  "language_info": {
   "codemirror_mode": {
    "name": "ipython",
    "version": 3
   },
   "file_extension": ".py",
   "mimetype": "text/x-python",
   "name": "python",
   "nbconvert_exporter": "python",
   "pygments_lexer": "ipython3",
   "version": "3.7.6"
  }
 },
 "nbformat": 4,
 "nbformat_minor": 4
}
