{
 "cells": [
  {
   "cell_type": "markdown",
   "metadata": {},
   "source": [
    "Si estas en Drive, bajate el .html y las imagenes, y despues abri con Chrome el .html"
   ]
  },
  {
   "cell_type": "markdown",
   "metadata": {},
   "source": [
    "# Diseño de FIR por ventanas\n",
    "\n",
    "Dada una plantilla como la siguiente:\n",
    "<img src=\"plantilla.png\" width=400>\n",
    "Se busca diseñar un filtro FIR eligiendo una ventana y numero de coeficientes apropiados.\n",
    "Para ello vamos a resolver un ejercicio explicando en el proceso algunas cosas teoricas importantes para entender lo que estamos haciendo. <b>Si estás viendo esto apurado porque no llegas a nada, saltea el texto y mira solo las ecuaciones</b>"
   ]
  },
  {
   "cell_type": "markdown",
   "metadata": {},
   "source": [
    "# Ejercicio 1: Diseño de filtros pasa-altos digitales con metodo por ventanas\n",
    "\n",
    "| Caso | fa (kHz) | Aa (dB) | fp (kHz) | Ap (dB) | fs (kHz) | Ventana |\n",
    "|:----:|:--------:|:-------:|:--------:|:-------:|:--------:|:-------:|\n",
    "|   b  |     1    |    40   |     2    |    1    |   44.1  | Hamming |\n",
    "|   d  |    1.2   |    40   |    2.4   |    2    |   44.1  |  Kaiser |\n",
    "\n",
    "Sacado de la guia de FIR de ASSD"
   ]
  },
  {
   "cell_type": "markdown",
   "metadata": {},
   "source": [
    "## Caso b)\n",
    "\n",
    "### 1. Eleccion de la ventana\n",
    "La elección de la ventana determina las atenuaciones en cada banda:\n",
    "\n",
    "|   Ventana   | Amp. lobulo lateral (dB) | Ancho lobulo principal | Maximo error de aproximación (20log($\\delta$)) (dB) |\n",
    "|:-----------:|:------------------------:|:----------------------:|:----------------------------------------:|\n",
    "| Rectangular |            -13           |       4$\\pi$/N         |                    -21                   |\n",
    "|   Bartlett  |            -25           |       8$\\pi$/N         |                    -25                   |\n",
    "|     Hann    |            -31           |       8$\\pi$/N         |                    -44                   |\n",
    "|   Hamming   |            -41           |       8$\\pi$/N         |                    -53                   |\n",
    "|   Blackman  |            -57           |      12$\\pi$/N         |                    -74                   |\n",
    "\n",
    "Para variar, tenemos un trade-off, a mayor atenuacion, menor selectividad, por lo que precisaremos un N mas grande. Por eso queremos elegir la primera ventana que se ajuste a nuestro diseño.\n",
    "\n",
    "Dado que tenemos dos especificaciones de atenuacion y la ventana sólo nos permite ajustar a una, debemos fijarnos cuál es la más restrictiva, es decir, debemos buscar $\\delta_p$ y $\\delta_a$ de la plantilla mostrada al principio. Si bien en este caso es pasa altos, las relaciones para las atenuaciones no varían.\n",
    "\n",
    "\\begin{align}\n",
    "    A_p &= 20log\\left( \\frac{1+\\delta_p}{1-\\delta_p} \\right)  \\\\\n",
    "    A_a &= 20log(\\delta_a)\n",
    "\\end{align}\n",
    "\n",
    "Despejando, obtenemos:\n",
    "\n",
    "\\begin{align}\n",
    "    \\delta_p &= \\frac{ 10^{A_p/20} - 1 }{ 10^{A_p/20} + 1 } \\\\ \n",
    "    \\delta_a &= 10^{-A_a/20}\n",
    "\\end{align}\n",
    "\n",
    "Para este problema:\n",
    "\n",
    "\\begin{align}\n",
    "    \\delta_p &= 0.0575 \\\\ \n",
    "    \\delta_a &= 0.01\n",
    "\\end{align}\n",
    "\n",
    "Por lo tanto, elegimos el mínimo, por ser más restrictivo:\n",
    "\n",
    "\\begin{align}\n",
    "    \\delta &= 0.01 \\\\\n",
    "    20log(\\delta) &= -40dB\n",
    "\\end{align}\n",
    "\n",
    "Nuestro máximo error permitido en la aproximación viene dado por $\\delta$, y con ese valor en dB elegimos la ventana. Para evitar confusiones, notar que en este caso coincide con $A_a$, pero si el más restrictivo hubiera sido $\\delta_p$ no coincidiría.\n",
    "\n",
    "En este caso la ventana de Hann sería apropiada, <b>vamos a utilizar la de Hamming porque es lo que pide el ejercicio <b>."
   ]
  },
  {
   "cell_type": "code",
   "execution_count": 85,
   "metadata": {},
   "outputs": [
    {
     "name": "stdout",
     "output_type": "stream",
     "text": [
      "delta_p: 0.05750112778453722\n",
      "delta_a: 0.01\n",
      "delta: 0.01\n",
      "Maximo error de aproximacion: -40.0dB\n"
     ]
    }
   ],
   "source": [
    "import numpy as np\n",
    "\n",
    "def delta_a(Aa):\n",
    "    return 10**(-Aa/20)\n",
    "\n",
    "def delta_p(Ap):\n",
    "    return (10**(Ap/20) - 1)/(10**(Ap/20) + 1)\n",
    "\n",
    "def delta(Aa, Ap):\n",
    "    return min(delta_a(Aa), delta_p(Ap))\n",
    "\n",
    "# Plantilla del ejercicio b\n",
    "Aa_b = 40\n",
    "Ap_b = 1\n",
    "fa_b = 1e3\n",
    "fp_b = 2e3\n",
    "fs = 44100\n",
    "\n",
    "delta_b = delta(Aa_b, Ap_b)\n",
    "print(f'delta_p: {delta_p(Ap_b)}')\n",
    "print(f'delta_a: {delta_a(Aa_b)}')\n",
    "print(f'delta: {delta_b}')\n",
    "print(f'Maximo error de aproximacion: {20*np.log10(delta_b)}dB')"
   ]
  },
  {
   "cell_type": "markdown",
   "metadata": {},
   "source": [
    "###  2. Determinacion de N\n",
    "Una vez que tenemos la ventana, debemos elegir N, la cantidad de coeficientes, para determinar el ancho de banda.\n",
    "\n",
    "#### 2.1 Normalización de frecuencia\n",
    "En primer lugar, vamos a pasar nuestras especificiaciones a la frecuencia normalizada $\\omega_n$ $\\epsilon$ [-$\\pi$, $\\pi$]\n",
    "\n",
    "\\begin{align}\n",
    "    \\omega_{an} &= 2\\pi \\frac{f_a}{f_s} = \\frac{20\\pi}{441}  \\\\\n",
    "    \\omega_{pn} &= 2\\pi \\frac{f_p}{f_s} = \\frac{40\\pi}{441}\n",
    "\\end{align}\n",
    "Por lo tanto, nuestra banda de transición sera:\n",
    "\n",
    "\\begin{equation}\n",
    "    B_t = \\omega_{pn} - \\omega_{an} = \\frac{20\\pi}{441}\n",
    "\\end{equation}\n",
    "\n",
    "Se invirtieron $\\omega_{an}$ y $\\omega_{pn}$ por ser pasa altos.\n",
    "\n",
    "\n",
    "#### 2.2 Ancho del lobulo principal\n",
    "\n",
    "Para entender por qué el ancho del lóbulo principal de la ventana se relaciona con el ancho de banda podemos analizar las siguientes figuras:\n",
    "\n",
    "<img style=\"float: left;\" src=\"filtro_real.webp\" width=400> <img style=\"float: rigth;\" src=\"ventana.webp\" width=400>\n",
    "\n",
    "La curva naranja de la imagen izquierda es nuestra respuesta real, resultado de convolucionar la respuesta ideal (linea punteada con frecuencia de corte $\\omega_c$) con la ventana, que se muestra a la derecha y solo se considera su primer lóbulo lateral.\n",
    "\n",
    "Si desplazamos la ventana a la izquierda de modo que todo su lóbulo principal está en la banda de paso (y el lóbulo derecho queda en la banda atenuada), obtenemos el máximo de la convolucion (Point 1).\n",
    "\n",
    "Si ahora desplazamos la ventana a la derecha de modo que todo su lóbulo principal está en la banda atenuada (y el lóbulo izquierdo queda en la banda de paso), obtenemos el mínimo de la convolución (Point 2). \n",
    "\n",
    "Por lo tanto, la diferencia de frecuencia entre los puntos 1 y 2 se corresponde con el ancho del lóbulo principal! Por último, nuestra banda de transición $|\\omega_{an} - \\omega_{pn}|$ será menor al ancho del lóbulo principal, la usaremos como una estimación del ancho del lóbulo principal que precisamos, notar que estamos sobredimensionando un poco.\n",
    "\n",
    "Ahora sí, vamos a igualar nuestra banda de transición al ancho del lóbulo principal de la ventana de Hamming que estamos utilizando:\n",
    "\n",
    "\\begin{align}\n",
    "    \\frac{8\\pi}{N} &= \\frac{20\\pi}{441} \\\\\n",
    "    N &\\geq 176.4\n",
    "\\end{align}\n",
    "Tomamos N = 177\n",
    "\n",
    "#### 2.3 Cumplimiento del tipo de FIR\n",
    "\n",
    "Siempre al obtener N, hay que fijarse que cumpla con el tipo de FIR y la plantilla que tenemos.\n",
    "\n",
    "<style type=\"text/css\">\n",
    ".tg  {border-collapse:collapse;border-spacing:0;}\n",
    ".tg td{border-color:black;border-style:solid;border-width:1px;font-family:Arial, sans-serif;font-size:14px;\n",
    "  overflow:hidden;padding:10px 5px;word-break:normal;}\n",
    ".tg th{border-color:black;border-style:solid;border-width:1px;font-family:Arial, sans-serif;font-size:14px;\n",
    "  font-weight:normal;overflow:hidden;padding:10px 5px;word-break:normal;}\n",
    ".tg .tg-baqh{text-align:center;vertical-align:top}\n",
    "</style>\n",
    "<table class=\"tg\">\n",
    "<thead>\n",
    "  <tr>\n",
    "    <th class=\"tg-baqh\">h(n)</th>\n",
    "    <th class=\"tg-baqh\">N</th>\n",
    "    <th class=\"tg-baqh\">Tipo</th>\n",
    "    <th class=\"tg-baqh\">Restricciones</th>\n",
    "    <th class=\"tg-baqh\">Plantillas posibles</th>\n",
    "  </tr>\n",
    "</thead>\n",
    "<tbody>\n",
    "  <tr>\n",
    "    <td class=\"tg-baqh\" rowspan=\"2\">Simetrica</td>\n",
    "    <td class=\"tg-baqh\">Impar</td>\n",
    "    <td class=\"tg-baqh\">1</td>\n",
    "    <td class=\"tg-baqh\">Ninguna</td>\n",
    "    <td class=\"tg-baqh\">Cualquiera</td>\n",
    "  </tr>\n",
    "  <tr>\n",
    "    <td class=\"tg-baqh\">Par</td>\n",
    "    <td class=\"tg-baqh\">2</td>\n",
    "    <td class=\"tg-baqh\">0 en $\\omega_s/2$</td>\n",
    "    <td class=\"tg-baqh\">Pasa bajos, pasa banda</td>\n",
    "  </tr>\n",
    "  <tr>\n",
    "    <td class=\"tg-baqh\" rowspan=\"2\">Antisimetrica</td>\n",
    "    <td class=\"tg-baqh\">Impar</td>\n",
    "    <td class=\"tg-baqh\">3</td>\n",
    "    <td class=\"tg-baqh\">0 en los extremos</td>\n",
    "    <td class=\"tg-baqh\">Diferenciadores, transf. de Hilbert</td>\n",
    "  </tr>\n",
    "  <tr>\n",
    "    <td class=\"tg-baqh\">Par</td>\n",
    "    <td class=\"tg-baqh\">4</td>\n",
    "    <td class=\"tg-baqh\">0 en el origen</td>\n",
    "    <td class=\"tg-baqh\">Diferenciadores, transf. de Hilbert</td>\n",
    "  </tr>\n",
    "</tbody>\n",
    "</table>\n",
    "\n",
    "En nuestro caso, por ser pasa altos precisamos N impar asi que N = 177 es correcto. De haber tenido N par, deberiamos haber sumado 1 para cumplir."
   ]
  },
  {
   "cell_type": "code",
   "execution_count": 88,
   "metadata": {},
   "outputs": [
    {
     "name": "stdout",
     "output_type": "stream",
     "text": [
      "N para la banda de transicion deseada: 177.0\n",
      "N cumpliendo el tipo de filtro: 177.0\n"
     ]
    }
   ],
   "source": [
    "def N_windows(fa, fp, fs, window):\n",
    "    bt = 2*np.pi*np.abs(fa - fp)/fs\n",
    "    N = 0\n",
    "    if window=='rectangular':\n",
    "        N = 4*np.pi/bt\n",
    "    elif window=='bartlett' or window=='hann' or window=='hamming':\n",
    "        N = 8*np.pi/bt\n",
    "    elif window=='blackman':\n",
    "        N = 12*np.pi/bt\n",
    "    return N\n",
    "\n",
    "N_b = np.ceil(N_windows(fa_b, fp_b, fs, 'hamming'))\n",
    "print(f'N para la banda de transicion deseada: {N_b}')\n",
    "if not N % 2:\n",
    "    N_b = N_b + 1\n",
    "print(f'N cumpliendo el tipo de filtro: {N_b}')"
   ]
  },
  {
   "cell_type": "markdown",
   "metadata": {},
   "source": [
    "### 3. Busqueda del filtro ideal apropiado\n",
    "\n",
    "Para entender este paso debemos recordar que la ventana elegida será convolucionada en la frecuencia con un filtro ideal, para darnos nuestro filtro real. Esto es así porque en el tiempo estamos multiplicando la respuesta impulsiva ideal por la ventana para obtener la respuesta impulsiva real.\n",
    "\n",
    "Teniendo eso en mente, el objetivo de este paso es determinar qué filtro ideal es el relacionado a nuestra especificación. Buscamos su frecuencia de corte $\\omega_c$. Si se hace un análisis de la convolución (consultar el link de entendimiento teorico al final), por simetría de las ventanas se llega a que:\n",
    "\n",
    "\\begin{equation}\n",
    "    \\omega_{cn} = \\frac{\\omega_{an} + \\omega_{pn}}{2}\n",
    "\\end{equation}\n",
    "En nuestro caso, \n",
    "\\begin{equation}\n",
    "    \\omega_{cn} = \\frac{10\\pi}{147}\n",
    "\\end{equation}\n",
    "\n",
    "Como nuestro buen amigo Dani ya nos provee de las h(n) para cada tipo de filtro con $\\omega_c$ desnormalizada, no precisamos antitransformar (yo lo tengo en la pagina 27 del pdf).\n",
    "\n",
    "Pasa-bajo:\n",
    "<img src=\"lowpass.png\" width=200>\n",
    "\n",
    "Pasa-alto:\n",
    "<img src=\"highpass.png\" width=200>\n",
    "\n",
    "Pasa-banda:\n",
    "<img src=\"bandpass.png\" width=300>\n",
    "\n",
    "Rechaza-banda:\n",
    "<img src=\"bandreject.png\" width=300>\n",
    "\n",
    "Para nuestro caso, desnormalizamos $\\omega_c$:\n",
    "\\begin{equation}\n",
    "    \\omega_c = \\omega_{cn} f_s = 3000 \\pi\n",
    "\\end{equation}\n",
    "\n",
    "Obtenemos $h_{ideal}(n)$ (respuesta impulsiva de nuestro filtro ideal):\n",
    "\n",
    "$\n",
    "    h_{ideal}(n) = \\left\\{\\begin{array}{ll}\n",
    "        -\\frac{1}{\\pi n} sen\\left(\\frac{10\\pi}{147}n \\right), & n \\neq 0 \\\\\n",
    "        \\frac{137}{147}, & n = 0\n",
    "        \\end{array}\\right.\n",
    "$"
   ]
  },
  {
   "cell_type": "code",
   "execution_count": 95,
   "metadata": {},
   "outputs": [
    {
     "name": "stdout",
     "output_type": "stream",
     "text": [
      "wc: 3000.0pi\n"
     ]
    }
   ],
   "source": [
    "fc_b = (fa_b + fp_b) / 2\n",
    "print(f'wc: {2*fc_b}pi')"
   ]
  },
  {
   "cell_type": "markdown",
   "metadata": {},
   "source": [
    "### 4. Aplicación de la ventana\n",
    "Ahora resta multiplicar por la ventana y aplicar un retardo para que sea causal.\n",
    "Para eso vamos a acudir a nuestro amigo scipy."
   ]
  },
  {
   "cell_type": "code",
   "execution_count": 102,
   "metadata": {},
   "outputs": [
    {
     "data": {
      "image/png": "[encoded data removed]",
      "text/plain": [
       "<Figure size 864x576 with 2 Axes>"
      ]
     },
     "metadata": {
      "needs_background": "light"
     },
     "output_type": "display_data"
    }
   ],
   "source": [
    "from scipy import signal\n",
    "import matplotlib.pyplot as plt\n",
    "import matplotlib.patches as patches\n",
    "import numpy as np\n",
    "\n",
    "h = signal.firwin(int(N_b), fc_b, window='hamming', pass_zero='highpass', fs=fs)\n",
    "\n",
    "w, h = signal.freqz(h, fs=2*np.pi*fs)\n",
    "\n",
    "fig, ax1 = plt.subplots()\n",
    "ax1.set_title('Digital filter frequency response')\n",
    "\n",
    "ax1.plot(w/2/np.pi, 20 * np.log10(abs(h)), 'b', label='Magnitud')\n",
    "ax1.set_ylabel('Amplitude [dB]', color='b')\n",
    "ax1.set_xlabel('Frequency [Hz]')\n",
    "ax1.legend()\n",
    "\n",
    "ax2 = ax1.twinx()\n",
    "angles = np.unwrap(np.angle(h))\n",
    "ax2.plot(w/2/np.pi, angles, 'g', label='Fase')\n",
    "ax2.set_ylabel('Angle (radians)', color='g')\n",
    "ax2.grid()\n",
    "ax2.axis('tight')\n",
    "ax2.legend()\n",
    "\n",
    "banda_atenuada = patches.Rectangle((fa_b,-Aa_b),-2e3,40,linewidth=1,edgecolor='r',facecolor='r')\n",
    "banda_paso = patches.Rectangle((fp_b,-Ap_b), 10e3, -80,linewidth=1,edgecolor='r',facecolor='r')\n",
    "\n",
    "ax1.add_patch(banda_atenuada)\n",
    "ax1.add_patch(banda_paso)\n",
    "\n",
    "fig.set_figheight(8)\n",
    "fig.set_figwidth(12)\n",
    "\n",
    "plt.show()"
   ]
  },
  {
   "cell_type": "markdown",
   "metadata": {},
   "source": [
    "## Caso d)\n",
    "\n",
    "### 1. Eleccion de la ventana\n",
    "En este caso, por utilizar la ventana de Kaiser debemos averiguar qué $\\alpha$ utilizar. Para ello, primero debemos obtener $\\delta$ de la misma forma que antes:\n",
    "\n",
    "\\begin{align}\n",
    "    \\delta_p &= \\frac{ 10^{A_p/20} - 1 }{ 10^{A_p/20} + 1 } \\\\ \n",
    "    \\delta_a &= 10^{-A_a/20}\n",
    "\\end{align}\n",
    "\n",
    "Calculamos $A=-20log(\\delta)$. Luego obtenemos el parámetro $\\alpha$ de Kaiser según la siguiente relación:\n",
    "\n",
    "$\n",
    "    \\alpha = \\left\\{\n",
    "        \\begin{array}{ll}\n",
    "            0, & si\\,\\,A \\leq 21 \\\\\n",
    "            0.5842(A - 21)^{0.4} + 0.07886(A - 21) & si\\,\\,21 < A \\leq 50 \\\\\n",
    "            0.1102(A - 8.7) & si\\,\\,A > 50\n",
    "        \\end{array}\n",
    "    \\right.\n",
    "$\n",
    "\n",
    "En la celda de abajo encontramos:\n",
    "\\begin{align}\n",
    "    \\delta = 0.01 \\\\\n",
    "    \\alpha = 3.395\n",
    "\\end{align}"
   ]
  },
  {
   "cell_type": "code",
   "execution_count": 132,
   "metadata": {},
   "outputs": [
    {
     "name": "stdout",
     "output_type": "stream",
     "text": [
      "delta_p: 0.11462326752458549\n",
      "delta_a: 0.01\n",
      "delta: 0.01\n",
      "Maximo error de aproximacion (A): -40.0dB\n",
      "Alpha: 3.3953210522614574\n"
     ]
    }
   ],
   "source": [
    "def alpha_kaiser(A):\n",
    "    ret = 0\n",
    "    if A > 21 and A <= 50:\n",
    "        ret = 0.5842*(A-21)**0.4 + 0.07886*(A-21)\n",
    "    elif A > 50:\n",
    "        ret = 0.1102*(A-8.7)\n",
    "    return ret\n",
    "\n",
    "fs = 44100\n",
    "# Plantilla caso d\n",
    "Aa_d = 40\n",
    "Ap_d = 2\n",
    "fa_d = 1.2e3\n",
    "fp_d = 2.4e3\n",
    "\n",
    "\n",
    "# Calculo de delta\n",
    "delta_d = delta(Aa_d, Ap_d)\n",
    "print(f'delta_p: {delta_p(Ap_d)}')\n",
    "print(f'delta_a: {delta_a(Aa_d)}')\n",
    "print(f'delta: {delta_d}')\n",
    "print(f'Maximo error de aproximacion (A): {20*np.log10(delta_d)}dB')\n",
    "\n",
    "# Calculo de alpha\n",
    "A = -20*np.log10(delta_d)\n",
    "alpha_d = alpha_kaiser(A)\n",
    "print(f'Alpha: {alpha_d}')"
   ]
  },
  {
   "cell_type": "markdown",
   "metadata": {},
   "source": [
    "### 2. Determinacion de N\n",
    "Para la ventana de Kaiser N debe cumplir:\n",
    "\\begin{align}\n",
    "    N \\geq \\frac{\\omega_s D}{B_t} + 1\n",
    "\\end{align}\n",
    "Donde $B_t$ es el ancho de la banda de transicion <b>desnormalizado</b> y D se obtiene mediante:\n",
    "\n",
    "$\n",
    "    D = \\left\\{ \n",
    "    \\begin{array}{ll}\n",
    "        0.922 & para\\,\\,A\\leq21 \\\\\n",
    "        \\frac{A - 7.95}{14.36} & para\\,\\,A>21\n",
    "    \\end{array}\n",
    "    \\right.\n",
    "$\n",
    "\n",
    "Con la celda de abajo obtenemos N = 84. Dado que es un pasa altos, debe ser de tipo 1, asi que le sumamos 1 y nos quedamos con:\n",
    "\\begin{equation}\n",
    "    N = 85\n",
    "\\end{equation}\n"
   ]
  },
  {
   "cell_type": "code",
   "execution_count": 133,
   "metadata": {},
   "outputs": [
    {
     "name": "stdout",
     "output_type": "stream",
     "text": [
      "D: 2.231894150417827\n",
      "N de kaiser = 84\n",
      "N para cumplir con el tipo: 85\n"
     ]
    }
   ],
   "source": [
    "def D_kaiser(A):\n",
    "    ret = 0\n",
    "    if A <= 21:\n",
    "        ret = 0.922\n",
    "    else:\n",
    "        ret = (A - 7.95)/(14.36)\n",
    "    return ret\n",
    "\n",
    "def N_kaiser(A, fs, fa, fp):\n",
    "    bt = 2*np.pi*np.abs(fa - fp)\n",
    "    ws = 2*np.pi*fs\n",
    "    return 1 + (ws*D_kaiser(A)/bt)\n",
    "\n",
    "# Calculo de N\n",
    "d = D_kaiser(A)\n",
    "print(f'D: {d}')\n",
    "# Rendondeamos para arriba para obtener N\n",
    "N_d = int(np.ceil(N_kaiser(A, fs, fa_d, fp_d)))\n",
    "print(f'N de kaiser = {N_d}')\n",
    "# Estamos en un pasa altos, si es par lo hacemos impar\n",
    "if not N_d%2:\n",
    "    N_d = N_d +1\n",
    "print(f'N para cumplir con el tipo: {N_d}')"
   ]
  },
  {
   "cell_type": "markdown",
   "metadata": {},
   "source": [
    "### 3. Busqueda del filtro ideal apropiado\n",
    "\n",
    "Calculamos $\\omega_c$ desnormalizada, y obtenemos h(n) con las formulas usadas previamente, usamos la correspondiente a pasa altos.\n",
    "\n",
    "### 4. Aplicacion de la ventana y retardo\n",
    "Scipy:"
   ]
  },
  {
   "cell_type": "code",
   "execution_count": 134,
   "metadata": {},
   "outputs": [
    {
     "name": "stdout",
     "output_type": "stream",
     "text": [
      "wc: 3600.0pi\n"
     ]
    },
    {
     "data": {
      "image/png": "[encoded data removed]",
      "text/plain": [
       "<Figure size 864x576 with 2 Axes>"
      ]
     },
     "metadata": {
      "needs_background": "light"
     },
     "output_type": "display_data"
    }
   ],
   "source": [
    "fc_d = (fa_d + fp_d)/2\n",
    "print(f'wc: {2*fc_d}pi')\n",
    "\n",
    "h = signal.firwin(N_d, fc_d, window=('kaiser', alpha_d) , pass_zero='highpass', fs=fs)\n",
    "\n",
    "w, H = signal.freqz(h, fs=2*np.pi*fs)\n",
    "\n",
    "fig, ax1 = plt.subplots()\n",
    "ax1.set_title('Digital filter frequency response')\n",
    "\n",
    "ax1.plot(w/2/np.pi, 20 * np.log10(abs(H)), 'b', label='Magnitud')\n",
    "ax1.set_ylabel('Amplitude [dB]', color='b')\n",
    "ax1.set_xlabel('Frequency [Hz]')\n",
    "ax1.legend()\n",
    "\n",
    "ax2 = ax1.twinx()\n",
    "angles = np.unwrap(np.angle(H))\n",
    "ax2.plot(w/2/np.pi, angles, 'g', label='Fase')\n",
    "ax2.set_ylabel('Angle (radians)', color='g')\n",
    "ax2.grid()\n",
    "ax2.axis('tight')\n",
    "ax2.legend()\n",
    "\n",
    "banda_atenuada = patches.Rectangle((fa_d,-Aa_d),-2e3,40,linewidth=1,edgecolor='r',facecolor='r')\n",
    "banda_paso = patches.Rectangle((fp_d,-Ap_d), 10e3, -80,linewidth=1,edgecolor='r',facecolor='r')\n",
    "\n",
    "ax1.add_patch(banda_atenuada)\n",
    "ax1.add_patch(banda_paso)\n",
    "\n",
    "fig.set_figheight(8)\n",
    "fig.set_figwidth(12)\n",
    "\n",
    "plt.show()"
   ]
  },
  {
   "cell_type": "markdown",
   "metadata": {},
   "source": [
    "El filtro no cumple plantilla en el primer lóbulo debido al ripple, pero not our problem.\n",
    "\n",
    "De la documentacion de Matlab para Kaiser (https://www.mathworks.com/help/signal/ref/kaiserord.html): \n",
    "\n",
    "\" In some cases, kaiserord underestimates or overestimates the order n. If the filter does not meet the specifications, try a higher order such as n+1, n+2, and so on, or a try lower order. \"\n",
    "\n",
    "O sea que esto es posible que pase, y para estos casos se debe tomar un N mas grande para solucionar el problema."
   ]
  },
  {
   "cell_type": "markdown",
   "metadata": {},
   "source": [
    "Entendimiento teorico:\n",
    "https://www.allaboutcircuits.com/technical-articles/filter-specs-window-parameters-in-finite-impulse-response-filter-design/\n",
    "\n",
    "Ejemplos practicos:\n",
    "https://www.allaboutcircuits.com/technical-articles/design-examples-of-fir-filters-using-window-method/"
   ]
  }
 ],
 "metadata": {
  "kernelspec": {
   "display_name": "Python 3",
   "language": "python",
   "name": "python3"
  },
  "language_info": {
   "codemirror_mode": {
    "name": "ipython",
    "version": 3
   },
   "file_extension": ".py",
   "mimetype": "text/x-python",
   "name": "python",
   "nbconvert_exporter": "python",
   "pygments_lexer": "ipython3",
   "version": "3.7.6"
  }
 },
 "nbformat": 4,
 "nbformat_minor": 4
}
