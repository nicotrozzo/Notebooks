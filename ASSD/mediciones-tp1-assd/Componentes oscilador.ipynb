{
 "cells": [
  {
   "cell_type": "markdown",
   "metadata": {},
   "source": [
    "La frecuencia del oscilador es:\n",
    "\\begin{equation}\n",
    "    f = \\frac{1}{ln(\\frac{V_P}{V_N}\\frac{V_{cc}-V_N}{V_{cc}-V_P})RC}\n",
    "\\end{equation}\n",
    "Con $V_{cc}$ = 5V, $V_p$ = 3.25V y $V_n$ = 1.25V:\n",
    "\\begin{equation}\n",
    "    f = \\frac{1}{2.2RC}\n",
    "\\end{equation}"
   ]
  },
  {
   "cell_type": "code",
   "execution_count": 18,
   "metadata": {},
   "outputs": [
    {
     "name": "stdout",
     "output_type": "stream",
     "text": [
      "Exp = -9 C = 4.33e-09, Commercial C = 4.30e-09\n",
      "Exp = -9 C = 3.94e-09, Commercial C = 3.90e-09\n",
      "Exp = -9 C = 3.61e-09, Commercial C = 3.60e-09\n",
      "Exp = -9 C = 3.33e-09, Commercial C = 3.30e-09\n",
      "Exp = -9 C = 2.89e-09, Commercial C = 3.00e-09\n",
      "Exp = -9 C = 2.71e-09, Commercial C = 2.70e-09\n",
      "Exp = -9 C = 2.41e-09, Commercial C = 2.40e-09\n",
      "Exp = -9 C = 2.17e-09, Commercial C = 2.20e-09\n",
      "Exp = -9 C = 1.97e-09, Commercial C = 2.00e-09\n",
      "Exp = -9 C = 1.81e-09, Commercial C = 1.80e-09\n",
      "Exp = -9 C = 1.61e-09, Commercial C = 1.60e-09\n",
      "Exp = -9 C = 1.44e-09, Commercial C = 1.50e-09\n",
      "Exp = -9 C = 1.31e-09, Commercial C = 1.30e-09\n",
      "Exp = -9 C = 1.20e-09, Commercial C = 1.20e-09\n",
      "Exp = -9 C = 1.11e-09, Commercial C = 1.10e-09\n",
      "Exp = -9 C = 1.01e-09, Commercial C = 1.00e-09\n",
      "Exp = -10 C = 9.22e-10, Commercial C = 9.10e-10\n",
      "Exp = -10 C = 8.50e-10, Commercial C = 8.20e-10\n",
      "Exp = -10 C = 7.74e-10, Commercial C = 7.50e-10\n",
      "Exp = -10 C = 6.99e-10, Commercial C = 6.80e-10\n",
      "Exp = -10 C = 6.37e-10, Commercial C = 6.20e-10\n",
      "Exp = -10 C = 5.78e-10, Commercial C = 5.60e-10\n",
      "Exp = -10 C = 5.29e-10, Commercial C = 5.10e-10\n",
      "Exp = -10 C = 4.76e-10, Commercial C = 4.70e-10\n",
      "Wanted frequency: f = 10.500kHz\n",
      "Real frequency: f = 10.535kHz\n",
      "\n",
      "Absolute error: 35.18 Hz\n",
      "Error porcentual: 0.34%\n",
      "\n",
      "R order of magnitude: kΩ\n",
      "Commercial R: 27.00kΩ\n",
      "Commercial C: 1.60nF\n",
      "Real C: 1.61nF\n",
      "\n"
     ]
    }
   ],
   "source": [
    "# Calculo de componentes oscilador con valores comerciales\n",
    "\n",
    "import numpy as np\n",
    "from copy import copy\n",
    "\n",
    "def define_order(x):\n",
    "    ret = (' ', 1)\n",
    "    if x >= 1e6:\n",
    "        ret = ('M', 1e-6)\n",
    "    elif x >= 1e3:\n",
    "        ret = ('k', 1e-3)\n",
    "    elif x >= 1e0:\n",
    "        ret = (' ', 1)\n",
    "    elif x >= 1e-3:\n",
    "        ret = ('m', 1e3)\n",
    "    elif x >= 1e-6:\n",
    "        ret = ('u', 1e6)\n",
    "    elif x >= 1e-9:\n",
    "        ret = ('n', 1e9)\n",
    "    elif x >= 1e-12:\n",
    "        ret = ('p', 1e12)\n",
    "\n",
    "    return ret\n",
    "\n",
    "# Busca valor comercial mas cercano e informa el error\n",
    "def closest_commercial(x, series):\n",
    "    aux = copy(x)\n",
    "    exp = 0\n",
    "    if aux > 1:\n",
    "        while aux > 1:\n",
    "            exp += 1\n",
    "            aux /= 10\n",
    "    elif aux < 1:\n",
    "        while aux < 1:\n",
    "            exp -= 1\n",
    "            aux *= 10\n",
    "    minerr = x\n",
    "    closest_s = 0\n",
    "    for s in series:\n",
    "        if abs(x - s*np.power(10.0,exp) ) < minerr:\n",
    "            minerr = abs(x - s*np.power(10.0,exp))\n",
    "            closest_s = s\n",
    "    print(f'Exp = {exp} C = {x:.2e}, Commercial C = {closest_s*np.power(10.0,exp):.2e}')\n",
    "    return closest_s*np.power(10.0, exp)\n",
    "\n",
    "#Definimos la frecuencia buscada\n",
    "f = 10.5e3\n",
    "\n",
    "# Definimos orden resistencia y serie a utilizar\n",
    "r_order = 10e3\n",
    "e_12 = [1, 1.2, 1.5, 1.8, 2.2, 2.7, 3.3, 3.9, 4.7, 5.6, 6.8, 8.2] # valores comerciales\n",
    "e_24 = [1,1.1,1.2,1.3,1.5,1.6,1.8,2,2.2,2.4,2.7,3,3.3,3.6,3.9,4.3,4.7,5.1,5.6,6.2,6.8,7.5,8.2,9.1] # valores comerciales\n",
    "serie = e_24\n",
    "\n",
    "# Busqueda de la frecuencia mas cercana con valores comerciales\n",
    "real_f = f\n",
    "minerr = f\n",
    "r_value = 0\n",
    "c_value = 0\n",
    "c_com_value = 0\n",
    "for com_r in serie:\n",
    "    c = 1/(np.log(9)*f*com_r*r_order)\n",
    "    com_c = closest_commercial(c, serie)\n",
    "    curr_f = 1/(np.log(9)*r_order*com_r*com_c)\n",
    "    if abs(curr_f - f) < minerr:\n",
    "        minerr = abs(curr_f - f)\n",
    "        real_f = curr_f\n",
    "        r_value = com_r*r_order\n",
    "        c_value = c\n",
    "        c_com_value = com_c\n",
    "\n",
    "err_p = minerr/f*100\n",
    "\n",
    "# Frequency info\n",
    "[order, mul] = define_order(f)\n",
    "print(f'Wanted frequency: f = {mul*f:.3f}{order}Hz')\n",
    "\n",
    "[order, mul] = define_order(real_f)\n",
    "print(f'Real frequency: f = {mul*real_f:.3f}{order}Hz\\n')\n",
    "\n",
    "# Error\n",
    "[order, mul] = define_order(minerr)\n",
    "print(f'Absolute error: {minerr*mul:.2f}{order}Hz')\n",
    "print(f'Error porcentual: {err_p:.2f}%\\n')\n",
    "\n",
    "# Components info\n",
    "[order, mul] = define_order(r_order)\n",
    "print(f'R order of magnitude: {order}\\u03A9')\n",
    "[order, mul] = define_order(r_value)\n",
    "print(f'Commercial R: {mul*r_value:.2f}{order}\\u03A9')\n",
    "[order, mul] = define_order(c_com_value)\n",
    "print(f'Commercial C: {c_com_value*mul:.2f}{order}F')\n",
    "[order, mul] = define_order(c_value)\n",
    "print(f'Real C: {c_value*mul:.2f}{order}F\\n')"
   ]
  },
  {
   "cell_type": "code",
   "execution_count": 4,
   "metadata": {},
   "outputs": [
    {
     "name": "stdout",
     "output_type": "stream",
     "text": [
      "R = 10.00kΩ\n",
      "C = 4.33nF\n"
     ]
    }
   ],
   "source": [
    "# Calculo de componentes sin valores comerciales\n",
    "\n",
    "#Definimos la frecuencia buscada\n",
    "f = 10.5e3\n",
    "# Fijamos resistencia\n",
    "resistor = 10e3\n",
    "\n",
    "# Averigua valor capacitor\n",
    "c =  1/(np.log(9)*f*r_order)\n",
    "\n",
    "\n",
    "\n",
    "[order, mul] = define_order(resistor)\n",
    "print(f'R = {mul*resistor:.2f}{order}\\u03A9')\n",
    "[order, mul] = define_order(c)\n",
    "print(f'C = {mul*c:.2f}{order}F')\n"
   ]
  },
  {
   "cell_type": "code",
   "execution_count": 5,
   "metadata": {},
   "outputs": [
    {
     "name": "stdout",
     "output_type": "stream",
     "text": [
      "Stop time: 381us\n",
      "Time to start saving data: 190us\n",
      "Timestep: 10ns\n"
     ]
    }
   ],
   "source": [
    "# Para la simulacion en LTSpice\n",
    "\n",
    "n = 2 # numero de periodos que se quieren ver\n",
    "sim_time = n*1/f   # se simulan n periodos\n",
    "start_time = 2/f   # tiempo de inicio luego de dos periodos\n",
    "stop_time = sim_time + start_time \n",
    "\n",
    "[order, mul] = define_order(stop_time)\n",
    "print(f'Stop time: {mul*stop_time:.0f}{order}s')\n",
    "\n",
    "[order, mul] = define_order(start_time)\n",
    "print(f'Time to start saving data: {mul*start_time:.0f}{order}s')\n",
    "\n",
    "samp_period = 10000 # numero de puntos por periodo\n",
    "[order, mul] = define_order(1/f/samp_period)\n",
    "print(f'Timestep: {mul/f/samp_period:.0f}{order}s')"
   ]
  },
  {
   "cell_type": "markdown",
   "metadata": {},
   "source": [
    "Para el circuito monoestable el periodo viene dado por:\n",
    "\\begin{equation}\n",
    "    T = RCln(\\frac{V_{CC}-V_P}{V_{CC}})\n",
    "\\end{equation}\n",
    "Con $V_{CC}$ = 5V y $V_P$ = 2.7V:\n",
    "\\begin{equation}\n",
    "    T = 0.776 RC\n",
    "\\end{equation}"
   ]
  },
  {
   "cell_type": "code",
   "execution_count": 20,
   "metadata": {},
   "outputs": [
    {
     "name": "stdout",
     "output_type": "stream",
     "text": [
      "Ancho del pulso: 90.47619047619048us\n",
      "R = 1.17MΩ\n",
      "C = 100.00pF\n"
     ]
    }
   ],
   "source": [
    "# Calculo de componentes del monoestable sin valores comerciales\n",
    "\n",
    "period = 1/f\n",
    "dt = .95 # Duty cycle\n",
    "pulse_width = period*dt\n",
    "\n",
    "vcc = 5\n",
    "vp = 2.7\n",
    "c1 = 100e-12\n",
    "r1 = pulse_width/(c1*np.log(vcc/(vcc-vp)))\n",
    "\n",
    "[order, mul] = define_order(pulse_width)\n",
    "print(f'Ancho del pulso: {pulse_width*mul}{order}s')\n",
    "[order, mul] = define_order(r1)\n",
    "print(f'R = {r1*mul:.2f}{order}\\u03A9')\n",
    "[order, mul] = define_order(c1)\n",
    "print(f'C = {c1*mul:.2f}{order}F')"
   ]
  },
  {
   "cell_type": "code",
   "execution_count": 7,
   "metadata": {},
   "outputs": [
    {
     "name": "stdout",
     "output_type": "stream",
     "text": [
      "T deberia ser 776.53ns!\n",
      "Pero es 1.06us...\n",
      "Error porcentual 36.50% :(\n"
     ]
    }
   ],
   "source": [
    "# Calculo de lo que deberia dar el monoestable\n",
    "r2 = 10e3\n",
    "c2 = 100e-12\n",
    "\n",
    "T_spice = 1.06e-6# la caca que me da Spice\n",
    "\n",
    "T = r2*c2*np.log(vcc/(vcc - vp))\n",
    "\n",
    "[order, mul] = define_order(T)\n",
    "print(f'T deberia ser {T*mul:.2f}{order}s!')\n",
    "[order, mul] = define_order(T_spice)\n",
    "print(f'Pero es {T_spice*mul:.2f}{order}s...')\n",
    "error_p = abs(T_spice - T)/T*100\n",
    "print(f'Error porcentual {error_p:.2f}% :(')\n"
   ]
  },
  {
   "cell_type": "code",
   "execution_count": null,
   "metadata": {},
   "outputs": [],
   "source": []
  }
 ],
 "metadata": {
  "kernelspec": {
   "display_name": "Python 3",
   "language": "python",
   "name": "python3"
  },
  "language_info": {
   "codemirror_mode": {
    "name": "ipython",
    "version": 3
   },
   "file_extension": ".py",
   "mimetype": "text/x-python",
   "name": "python",
   "nbconvert_exporter": "python",
   "pygments_lexer": "ipython3",
   "version": "3.7.6"
  }
 },
 "nbformat": 4,
 "nbformat_minor": 4
}
