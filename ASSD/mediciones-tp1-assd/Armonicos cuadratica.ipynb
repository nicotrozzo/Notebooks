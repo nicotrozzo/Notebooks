{
 "cells": [
  {
   "cell_type": "markdown",
   "metadata": {},
   "source": [
    "Se tiene la señal cuadrática periódica:\n",
    "\\begin{equation}\n",
    "    x_T(t) = \\sum_{n \\in Z} A \\cdot \\Pi\\left(\\frac{t - n \\cdot T}{T}\\right) \\cdot (t - n \\cdot T)^{2}\n",
    "\\end{equation}\n",
    "\n",
    "Sus coeficientes de Fourier son:\n",
    "\\begin{align*}\n",
    "    X_o &= \\frac{A \\cdot T^{2}}{12}  \\\\\n",
    "    X_n &= \\frac{A \\cdot T^{2} \\cdot (-1)^{n}}{2 \\pi^{2} \\cdot n^{2}}\\,\\, n>0\n",
    "\\end{align*}"
   ]
  },
  {
   "cell_type": "code",
   "execution_count": null,
   "metadata": {},
   "outputs": [],
   "source": [
    "# Grafico espectro cuadratica\n",
    "\n",
    "import numpy as np\n",
    "import matplotlib.pyplot as plt\n",
    "\n",
    "# Numero de armonicos\n",
    "n = 10\n",
    "\n",
    "# Periodo\n",
    "T = 4\n",
    "\n",
    "# Amplitud\n",
    "A = 5/4\n",
    "\n",
    "x = np.arange(0, n/T, 1/T)\n",
    "# x = np.arange(0, 2*n*np.pi/T, 2*np.pi/T)\n",
    "\n",
    "y = [A*np.power(T,2)/12]\n",
    "y += [A*T**2*np.power(-1, k)/(2*np.pi**2*np.power(k,2)) for k in range(n)[1:]]\n",
    "\n",
    "# Tiempo de sample\n",
    "Ts = 1/10500\n",
    "f = np.arange(0, 1000, 1)\n",
    "sinc = np.sinc(np.pi*f*Ts)\n",
    "\n",
    "fig, ax = plt.subplots()\n",
    "ax.stem(x, np.abs(y), use_line_collection=True)\n",
    "ax.plot(f, sinc)\n",
    "\n",
    "ax.set(xlabel='Frequencia (Hz)', ylabel='Densidad de potencia', title='Espectro cuadratica')\n",
    "ax.grid()\n",
    "\n",
    "plt.show()"
   ]
  },
  {
   "cell_type": "code",
   "execution_count": 34,
   "metadata": {},
   "outputs": [
    {
     "name": "stdout",
     "output_type": "stream",
     "text": [
      "0.999999079653064\n"
     ]
    }
   ],
   "source": [
    "print(np.sinc(0.000748))"
   ]
  },
  {
   "cell_type": "code",
   "execution_count": null,
   "metadata": {},
   "outputs": [],
   "source": []
  }
 ],
 "metadata": {
  "kernelspec": {
   "display_name": "Python 3",
   "language": "python",
   "name": "python3"
  },
  "language_info": {
   "codemirror_mode": {
    "name": "ipython",
    "version": 3
   },
   "file_extension": ".py",
   "mimetype": "text/x-python",
   "name": "python",
   "nbconvert_exporter": "python",
   "pygments_lexer": "ipython3",
   "version": "3.7.6"
  }
 },
 "nbformat": 4,
 "nbformat_minor": 4
}
